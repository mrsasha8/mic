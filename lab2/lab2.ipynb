{
 "cells": [
  {
   "cell_type": "code",
   "outputs": [],
   "source": [
    "import numpy as np\n",
    "import scipy\n",
    "import random\n",
    "import math"
   ],
   "metadata": {
    "collapsed": true,
    "ExecuteTime": {
     "end_time": "2024-03-20T11:32:00.822680Z",
     "start_time": "2024-03-20T11:32:00.080370Z"
    }
   },
   "id": "initial_id",
   "execution_count": 1
  },
  {
   "cell_type": "markdown",
   "source": [
    "# Task 1"
   ],
   "metadata": {
    "collapsed": false
   },
   "id": "76e66511c9b0d84d"
  },
  {
   "cell_type": "code",
   "outputs": [],
   "source": [
    "def task_3_a(n: int, m: int, r: int, c: int):\n",
    "    result = np.ones((n, m), dtype=int)\n",
    "    \n",
    "    result[(np.arange(n)) % r == 0, :] = 0\n",
    "    result[:, (np.arange(m)) % c == 0] = 0\n",
    "    \n",
    "    return result"
   ],
   "metadata": {
    "collapsed": false,
    "ExecuteTime": {
     "end_time": "2024-03-20T11:32:00.831528Z",
     "start_time": "2024-03-20T11:32:00.825080Z"
    }
   },
   "id": "9d6f43f5fbec3013",
   "execution_count": 2
  },
  {
   "cell_type": "code",
   "outputs": [],
   "source": [
    "def task_3_b(n: int, m: int, r: int, c: int):\n",
    "    result = [[1] * m for _ in range(n)]\n",
    "    \n",
    "    for i in range(n):\n",
    "        if i % r == 0:\n",
    "            result[i] = [0] * m\n",
    "    \n",
    "    for j in range(m):\n",
    "        if j % c == 0:\n",
    "            for i in range(n):\n",
    "                result[i][j] = 0\n",
    "    \n",
    "    return result"
   ],
   "metadata": {
    "collapsed": false,
    "ExecuteTime": {
     "end_time": "2024-03-20T11:32:00.839891Z",
     "start_time": "2024-03-20T11:32:00.834476Z"
    }
   },
   "id": "f28cf0e5997096e0",
   "execution_count": 3
  },
  {
   "cell_type": "code",
   "outputs": [],
   "source": [
    "def task_5_a(n: int):\n",
    "    result = np.ones((n, n), dtype=int)\n",
    "    result[1::2] = 0\n",
    "    \n",
    "    return result"
   ],
   "metadata": {
    "collapsed": false,
    "ExecuteTime": {
     "end_time": "2024-03-20T11:32:00.847229Z",
     "start_time": "2024-03-20T11:32:00.841103Z"
    }
   },
   "id": "ae86326ccf43c82a",
   "execution_count": 4
  },
  {
   "cell_type": "code",
   "outputs": [],
   "source": [
    "def task_5_b(n: int):\n",
    "    result = []\n",
    "    for i in range(n):\n",
    "        if i % 2 == 0:\n",
    "            result.append([1] * n)\n",
    "        else:\n",
    "            result.append([0] * n)\n",
    "    \n",
    "    return result"
   ],
   "metadata": {
    "collapsed": false,
    "ExecuteTime": {
     "end_time": "2024-03-20T11:32:00.857744Z",
     "start_time": "2024-03-20T11:32:00.851578Z"
    }
   },
   "id": "e7a7ee279455e1c8",
   "execution_count": 5
  },
  {
   "cell_type": "code",
   "outputs": [],
   "source": [
    "def task_7_a(arr: np.array):\n",
    "    arr[arr == 0] = -1\n",
    "    \n",
    "    return arr"
   ],
   "metadata": {
    "collapsed": false,
    "ExecuteTime": {
     "end_time": "2024-03-20T11:32:00.863493Z",
     "start_time": "2024-03-20T11:32:00.860073Z"
    }
   },
   "id": "b350435acb64ef7",
   "execution_count": 6
  },
  {
   "cell_type": "code",
   "outputs": [],
   "source": [
    "def task_7_b(arr: []):\n",
    "    for i in range(len(arr)):\n",
    "        if arr[i] == 0:\n",
    "            arr[i] = -1\n",
    "    \n",
    "    return arr"
   ],
   "metadata": {
    "collapsed": false,
    "ExecuteTime": {
     "end_time": "2024-03-20T11:32:00.872582Z",
     "start_time": "2024-03-20T11:32:00.865509Z"
    }
   },
   "id": "f579c93fbfcbf63",
   "execution_count": 7
  },
  {
   "cell_type": "code",
   "outputs": [],
   "source": [
    "def task_9_a(n: int):\n",
    "    return np.arange(n, -1, -1)"
   ],
   "metadata": {
    "collapsed": false,
    "ExecuteTime": {
     "end_time": "2024-03-20T11:32:00.878604Z",
     "start_time": "2024-03-20T11:32:00.874592Z"
    }
   },
   "id": "3c6a71b8e7b1eed1",
   "execution_count": 8
  },
  {
   "cell_type": "code",
   "outputs": [],
   "source": [
    "def task_9_b(n: int):\n",
    "    return list(range(n, -1, -1))"
   ],
   "metadata": {
    "collapsed": false,
    "ExecuteTime": {
     "end_time": "2024-03-20T11:32:00.886773Z",
     "start_time": "2024-03-20T11:32:00.880617Z"
    }
   },
   "id": "66fc3e59038943bc",
   "execution_count": 9
  },
  {
   "cell_type": "code",
   "outputs": [],
   "source": [
    "def task_10_a(n: int, m: int):\n",
    "    matrix = np.random.rand(n, m)\n",
    "    \n",
    "    return np.min(matrix), np.max(matrix), np.mean(matrix), np.std(matrix)"
   ],
   "metadata": {
    "collapsed": false,
    "ExecuteTime": {
     "end_time": "2024-03-20T11:32:00.893699Z",
     "start_time": "2024-03-20T11:32:00.888680Z"
    }
   },
   "id": "5ede599915cc0e2b",
   "execution_count": 10
  },
  {
   "cell_type": "code",
   "outputs": [],
   "source": [
    "def task_10_b(n: int, m: int):\n",
    "    matrix = [[random.random() for _ in range(m)] for _ in range(n)]\n",
    "    \n",
    "    flattened_matrix = [val for sublist in matrix for val in sublist]\n",
    "    \n",
    "    min_val = min(flattened_matrix)\n",
    "    max_val = max(flattened_matrix)\n",
    "    average_val = sum(flattened_matrix) / len(flattened_matrix)\n",
    "    std_dev = math.sqrt(sum((x - average_val) ** 2 for x in flattened_matrix) / len(flattened_matrix))\n",
    "    \n",
    "    return min_val, max_val, average_val, std_dev"
   ],
   "metadata": {
    "collapsed": false,
    "ExecuteTime": {
     "end_time": "2024-03-20T11:32:00.901725Z",
     "start_time": "2024-03-20T11:32:00.895713Z"
    }
   },
   "id": "64683f60a1b2fe98",
   "execution_count": 11
  },
  {
   "cell_type": "code",
   "outputs": [],
   "source": [
    "def task_12_a(n: int):\n",
    "    result = np.zeros((n, n), dtype=int)\n",
    "    result[1:-1, 1:-1] = 1\n",
    "    return result"
   ],
   "metadata": {
    "collapsed": false,
    "ExecuteTime": {
     "end_time": "2024-03-20T11:32:00.909259Z",
     "start_time": "2024-03-20T11:32:00.904269Z"
    }
   },
   "id": "a4417aa3ac27f21b",
   "execution_count": 12
  },
  {
   "cell_type": "code",
   "outputs": [],
   "source": [
    "def task_12_b(n: int):\n",
    "    result = []\n",
    "    for i in range(n):\n",
    "        row = []\n",
    "        for j in range(n):\n",
    "            if i == 0 or i == n - 1 or j == 0 or j == n - 1:\n",
    "                row.append(0)\n",
    "            else:\n",
    "                row.append(1)\n",
    "        result.append(row)\n",
    "    return result"
   ],
   "metadata": {
    "collapsed": false,
    "ExecuteTime": {
     "end_time": "2024-03-20T11:32:00.916592Z",
     "start_time": "2024-03-20T11:32:00.911274Z"
    }
   },
   "id": "3c852ace534df2a5",
   "execution_count": 13
  },
  {
   "cell_type": "code",
   "outputs": [],
   "source": [
    "def task_14_a():\n",
    "    return np.tile(np.array([[0, 1], [1, 0]]), (4, 4))"
   ],
   "metadata": {
    "collapsed": false,
    "ExecuteTime": {
     "end_time": "2024-03-20T11:32:00.926033Z",
     "start_time": "2024-03-20T11:32:00.921138Z"
    }
   },
   "id": "c2707d01f3682431",
   "execution_count": 14
  },
  {
   "cell_type": "code",
   "outputs": [],
   "source": [
    "def task_14_b():\n",
    "    result = []\n",
    "\n",
    "    for i in range(8):\n",
    "        row = []\n",
    "\n",
    "        for j in range(8):\n",
    "            if i % 2 == 0:\n",
    "                if j % 2 == 0:\n",
    "                    row.append(0)\n",
    "                else:\n",
    "                    row.append(1)\n",
    "            else:\n",
    "                if j % 2 == 0:\n",
    "                    row.append(1)\n",
    "                else:\n",
    "                    row.append(0)\n",
    "\n",
    "        result.append(row)\n",
    "\n",
    "    return result"
   ],
   "metadata": {
    "collapsed": false,
    "ExecuteTime": {
     "end_time": "2024-03-20T11:32:00.933784Z",
     "start_time": "2024-03-20T11:32:00.927043Z"
    }
   },
   "id": "d71855e21fe34681",
   "execution_count": 15
  },
  {
   "cell_type": "code",
   "outputs": [],
   "source": [
    "def task_15_a(n: int):\n",
    "    result = np.ones((n, n), dtype=int)\n",
    "\n",
    "    result[:, ::2] = 0\n",
    "\n",
    "    return result"
   ],
   "metadata": {
    "collapsed": false,
    "ExecuteTime": {
     "end_time": "2024-03-20T11:32:00.940330Z",
     "start_time": "2024-03-20T11:32:00.935709Z"
    }
   },
   "id": "a6cc06e05fc9e48a",
   "execution_count": 16
  },
  {
   "cell_type": "code",
   "outputs": [],
   "source": [
    "def task_15_b(n: int):\n",
    "    result = []\n",
    "\n",
    "    for i in range(n):\n",
    "        row = []\n",
    "\n",
    "        for j in range(n):\n",
    "            if j % 2 == 0:\n",
    "                row.append(0)\n",
    "            else:\n",
    "                row.append(1)\n",
    "\n",
    "        result.append(row)\n",
    "\n",
    "    return result"
   ],
   "metadata": {
    "collapsed": false,
    "ExecuteTime": {
     "end_time": "2024-03-20T11:32:00.949487Z",
     "start_time": "2024-03-20T11:32:00.941344Z"
    }
   },
   "id": "541f967557bbf3ce",
   "execution_count": 17
  },
  {
   "cell_type": "code",
   "outputs": [],
   "source": [
    "def task_21_a(n: int, m: int):\n",
    "    result = np.random.randint(0, m, size=(n, n))\n",
    "\n",
    "    max_val = np.max(result)\n",
    "\n",
    "    result[result == max_val] *= -1\n",
    "\n",
    "    return result"
   ],
   "metadata": {
    "collapsed": false,
    "ExecuteTime": {
     "end_time": "2024-03-20T11:32:00.956098Z",
     "start_time": "2024-03-20T11:32:00.951408Z"
    }
   },
   "id": "c59c07be9fabed03",
   "execution_count": 18
  },
  {
   "cell_type": "code",
   "outputs": [],
   "source": [
    "def task_21_b(n: int, m: int):\n",
    "    result = [[random.randint(0, m - 1) for _ in range(n)] for _ in range(n)]\n",
    "\n",
    "    max_val = max(max(row) for row in result)\n",
    "\n",
    "    for i in range(n):\n",
    "        for j in range(n):\n",
    "            if result[i][j] == max_val:\n",
    "                result[i][j] *= -1\n",
    "\n",
    "    return result"
   ],
   "metadata": {
    "collapsed": false,
    "ExecuteTime": {
     "end_time": "2024-03-20T11:32:00.964043Z",
     "start_time": "2024-03-20T11:32:00.958310Z"
    }
   },
   "id": "295b8905fa1a6bf1",
   "execution_count": 19
  },
  {
   "cell_type": "code",
   "outputs": [
    {
     "data": {
      "text/plain": "array([[0, 0, 0, 0, 0, 0, 0],\n       [0, 1, 1, 0, 1, 1, 0],\n       [0, 0, 0, 0, 0, 0, 0],\n       [0, 1, 1, 0, 1, 1, 0],\n       [0, 0, 0, 0, 0, 0, 0],\n       [0, 1, 1, 0, 1, 1, 0]])"
     },
     "execution_count": 20,
     "metadata": {},
     "output_type": "execute_result"
    }
   ],
   "source": [
    "task_3_a(6, 7, 2, 3)"
   ],
   "metadata": {
    "collapsed": false,
    "ExecuteTime": {
     "end_time": "2024-03-20T11:32:00.975412Z",
     "start_time": "2024-03-20T11:32:00.966054Z"
    }
   },
   "id": "c5ff6ad814f58683",
   "execution_count": 20
  },
  {
   "cell_type": "code",
   "outputs": [
    {
     "name": "stdout",
     "output_type": "stream",
     "text": [
      "14.5 µs ± 174 ns per loop (mean ± std. dev. of 7 runs, 100,000 loops each)\n"
     ]
    }
   ],
   "source": [
    "%timeit task_3_a(6, 7, 2, 3)"
   ],
   "metadata": {
    "collapsed": false,
    "ExecuteTime": {
     "end_time": "2024-03-20T11:32:12.803011Z",
     "start_time": "2024-03-20T11:32:00.976615Z"
    }
   },
   "id": "8979bf225166b941",
   "execution_count": 21
  },
  {
   "cell_type": "code",
   "outputs": [
    {
     "data": {
      "text/plain": "[[0, 0, 0, 0, 0, 0, 0],\n [0, 1, 1, 0, 1, 1, 0],\n [0, 0, 0, 0, 0, 0, 0],\n [0, 1, 1, 0, 1, 1, 0],\n [0, 0, 0, 0, 0, 0, 0],\n [0, 1, 1, 0, 1, 1, 0]]"
     },
     "execution_count": 22,
     "metadata": {},
     "output_type": "execute_result"
    }
   ],
   "source": [
    "task_3_b(6, 7, 2, 3)"
   ],
   "metadata": {
    "collapsed": false,
    "ExecuteTime": {
     "end_time": "2024-03-20T11:32:12.810787Z",
     "start_time": "2024-03-20T11:32:12.804082Z"
    }
   },
   "id": "94aef9c6327d70b3",
   "execution_count": 22
  },
  {
   "cell_type": "code",
   "outputs": [
    {
     "name": "stdout",
     "output_type": "stream",
     "text": [
      "2.86 µs ± 28 ns per loop (mean ± std. dev. of 7 runs, 100,000 loops each)\n"
     ]
    }
   ],
   "source": [
    "%timeit task_3_b(6, 7, 2, 3)"
   ],
   "metadata": {
    "collapsed": false,
    "ExecuteTime": {
     "end_time": "2024-03-20T11:32:15.152582Z",
     "start_time": "2024-03-20T11:32:12.812365Z"
    }
   },
   "id": "31ddad42f7b0e72e",
   "execution_count": 23
  },
  {
   "cell_type": "code",
   "outputs": [
    {
     "data": {
      "text/plain": "array([[1, 1, 1, 1, 1],\n       [0, 0, 0, 0, 0],\n       [1, 1, 1, 1, 1],\n       [0, 0, 0, 0, 0],\n       [1, 1, 1, 1, 1]])"
     },
     "execution_count": 24,
     "metadata": {},
     "output_type": "execute_result"
    }
   ],
   "source": [
    "task_5_a(5)"
   ],
   "metadata": {
    "collapsed": false,
    "ExecuteTime": {
     "end_time": "2024-03-20T11:32:15.158941Z",
     "start_time": "2024-03-20T11:32:15.153859Z"
    }
   },
   "id": "6e2ae0be9ea0e96d",
   "execution_count": 24
  },
  {
   "cell_type": "code",
   "outputs": [
    {
     "name": "stdout",
     "output_type": "stream",
     "text": [
      "2.15 µs ± 28.6 ns per loop (mean ± std. dev. of 7 runs, 100,000 loops each)\n"
     ]
    }
   ],
   "source": [
    "%timeit task_5_a(5)"
   ],
   "metadata": {
    "collapsed": false,
    "ExecuteTime": {
     "end_time": "2024-03-20T11:32:16.923091Z",
     "start_time": "2024-03-20T11:32:15.160068Z"
    }
   },
   "id": "3be5f70ec8a28bee",
   "execution_count": 25
  },
  {
   "cell_type": "code",
   "outputs": [
    {
     "data": {
      "text/plain": "[[1, 1, 1, 1, 1],\n [0, 0, 0, 0, 0],\n [1, 1, 1, 1, 1],\n [0, 0, 0, 0, 0],\n [1, 1, 1, 1, 1]]"
     },
     "execution_count": 26,
     "metadata": {},
     "output_type": "execute_result"
    }
   ],
   "source": [
    "task_5_b(5)"
   ],
   "metadata": {
    "collapsed": false,
    "ExecuteTime": {
     "end_time": "2024-03-20T11:32:16.929565Z",
     "start_time": "2024-03-20T11:32:16.924114Z"
    }
   },
   "id": "ddfcdb7178f85ed9",
   "execution_count": 26
  },
  {
   "cell_type": "code",
   "outputs": [
    {
     "name": "stdout",
     "output_type": "stream",
     "text": [
      "1.01 µs ± 17.3 ns per loop (mean ± std. dev. of 7 runs, 1,000,000 loops each)\n"
     ]
    }
   ],
   "source": [
    "%timeit task_5_b(5)"
   ],
   "metadata": {
    "collapsed": false,
    "ExecuteTime": {
     "end_time": "2024-03-20T11:32:25.127663Z",
     "start_time": "2024-03-20T11:32:16.931174Z"
    }
   },
   "id": "835263635032a0c9",
   "execution_count": 27
  },
  {
   "cell_type": "code",
   "outputs": [
    {
     "data": {
      "text/plain": "array([-1, -1,  2,  3,  4])"
     },
     "execution_count": 28,
     "metadata": {},
     "output_type": "execute_result"
    }
   ],
   "source": [
    "task_7_a(np.array([0, 0, 2, 3, 4]))"
   ],
   "metadata": {
    "collapsed": false,
    "ExecuteTime": {
     "end_time": "2024-03-20T11:32:25.136506Z",
     "start_time": "2024-03-20T11:32:25.129734Z"
    }
   },
   "id": "24ce938b08fc44e2",
   "execution_count": 28
  },
  {
   "cell_type": "code",
   "outputs": [
    {
     "name": "stdout",
     "output_type": "stream",
     "text": [
      "3.01 µs ± 41.2 ns per loop (mean ± std. dev. of 7 runs, 100,000 loops each)\n"
     ]
    }
   ],
   "source": [
    "%timeit task_7_a(np.array([0, 0, 2, 3, 4]))"
   ],
   "metadata": {
    "collapsed": false,
    "ExecuteTime": {
     "end_time": "2024-03-20T11:32:27.591535Z",
     "start_time": "2024-03-20T11:32:25.137518Z"
    }
   },
   "id": "deec2dc2cf64c9ff",
   "execution_count": 29
  },
  {
   "cell_type": "code",
   "outputs": [
    {
     "data": {
      "text/plain": "[-1, -1, 2, 3, 4]"
     },
     "execution_count": 30,
     "metadata": {},
     "output_type": "execute_result"
    }
   ],
   "source": [
    "task_7_b([0, 0, 2, 3, 4])"
   ],
   "metadata": {
    "collapsed": false,
    "ExecuteTime": {
     "end_time": "2024-03-20T11:32:27.599338Z",
     "start_time": "2024-03-20T11:32:27.593068Z"
    }
   },
   "id": "bf7dcfd88618a99d",
   "execution_count": 30
  },
  {
   "cell_type": "code",
   "outputs": [
    {
     "name": "stdout",
     "output_type": "stream",
     "text": [
      "379 ns ± 5.06 ns per loop (mean ± std. dev. of 7 runs, 1,000,000 loops each)\n"
     ]
    }
   ],
   "source": [
    "%timeit task_7_b([0, 0, 2, 3, 4])"
   ],
   "metadata": {
    "collapsed": false,
    "ExecuteTime": {
     "end_time": "2024-03-20T11:32:30.704431Z",
     "start_time": "2024-03-20T11:32:27.600941Z"
    }
   },
   "id": "981514d2e7d8e7b9",
   "execution_count": 31
  },
  {
   "cell_type": "code",
   "outputs": [
    {
     "data": {
      "text/plain": "array([10,  9,  8,  7,  6,  5,  4,  3,  2,  1,  0])"
     },
     "execution_count": 32,
     "metadata": {},
     "output_type": "execute_result"
    }
   ],
   "source": [
    "task_9_a(10)"
   ],
   "metadata": {
    "collapsed": false,
    "ExecuteTime": {
     "end_time": "2024-03-20T11:32:30.712932Z",
     "start_time": "2024-03-20T11:32:30.706451Z"
    }
   },
   "id": "15ec0e0232375529",
   "execution_count": 32
  },
  {
   "cell_type": "code",
   "outputs": [
    {
     "name": "stdout",
     "output_type": "stream",
     "text": [
      "819 ns ± 26.5 ns per loop (mean ± std. dev. of 7 runs, 1,000,000 loops each)\n"
     ]
    }
   ],
   "source": [
    "%timeit task_9_a(10)"
   ],
   "metadata": {
    "collapsed": false,
    "ExecuteTime": {
     "end_time": "2024-03-20T11:32:37.368729Z",
     "start_time": "2024-03-20T11:32:30.715597Z"
    }
   },
   "id": "f9268ab9aa9833e6",
   "execution_count": 33
  },
  {
   "cell_type": "code",
   "outputs": [
    {
     "data": {
      "text/plain": "[10, 9, 8, 7, 6, 5, 4, 3, 2, 1, 0]"
     },
     "execution_count": 34,
     "metadata": {},
     "output_type": "execute_result"
    }
   ],
   "source": [
    "task_9_b(10)"
   ],
   "metadata": {
    "collapsed": false,
    "ExecuteTime": {
     "end_time": "2024-03-20T11:32:37.375611Z",
     "start_time": "2024-03-20T11:32:37.370031Z"
    }
   },
   "id": "155fbd43b20167eb",
   "execution_count": 34
  },
  {
   "cell_type": "code",
   "outputs": [
    {
     "name": "stdout",
     "output_type": "stream",
     "text": [
      "333 ns ± 81.5 ns per loop (mean ± std. dev. of 7 runs, 1,000,000 loops each)\n"
     ]
    }
   ],
   "source": [
    "%timeit task_9_b(10)"
   ],
   "metadata": {
    "collapsed": false,
    "ExecuteTime": {
     "end_time": "2024-03-20T11:32:40.008187Z",
     "start_time": "2024-03-20T11:32:37.376585Z"
    }
   },
   "id": "82619c403aa9fcb0",
   "execution_count": 35
  },
  {
   "cell_type": "code",
   "outputs": [
    {
     "data": {
      "text/plain": "(0.101, 0.938, 0.525, 0.251)"
     },
     "execution_count": 36,
     "metadata": {},
     "output_type": "execute_result"
    }
   ],
   "source": [
    "%precision 3\n",
    "task_10_a(5, 5)"
   ],
   "metadata": {
    "collapsed": false,
    "ExecuteTime": {
     "end_time": "2024-03-20T11:32:40.026330Z",
     "start_time": "2024-03-20T11:32:40.009219Z"
    }
   },
   "id": "5fcc75d20038eb80",
   "execution_count": 36
  },
  {
   "cell_type": "code",
   "outputs": [
    {
     "name": "stdout",
     "output_type": "stream",
     "text": [
      "49.3 µs ± 4.53 µs per loop (mean ± std. dev. of 7 runs, 10,000 loops each)\n"
     ]
    }
   ],
   "source": [
    "%timeit task_10_a(5, 5)"
   ],
   "metadata": {
    "collapsed": false,
    "ExecuteTime": {
     "end_time": "2024-03-20T11:32:44.036984Z",
     "start_time": "2024-03-20T11:32:40.028351Z"
    }
   },
   "id": "28b666bbf658fd5c",
   "execution_count": 37
  },
  {
   "cell_type": "code",
   "outputs": [
    {
     "data": {
      "text/plain": "(0.074, 0.970, 0.575, 0.302)"
     },
     "execution_count": 38,
     "metadata": {},
     "output_type": "execute_result"
    }
   ],
   "source": [
    "%precision 3\n",
    "task_10_b(5, 5)"
   ],
   "metadata": {
    "collapsed": false,
    "ExecuteTime": {
     "end_time": "2024-03-20T11:32:44.044635Z",
     "start_time": "2024-03-20T11:32:44.038004Z"
    }
   },
   "id": "6883c46b404179f7",
   "execution_count": 38
  },
  {
   "cell_type": "code",
   "outputs": [
    {
     "name": "stdout",
     "output_type": "stream",
     "text": [
      "9.4 µs ± 69 ns per loop (mean ± std. dev. of 7 runs, 100,000 loops each)\n"
     ]
    }
   ],
   "source": [
    "%timeit task_10_b(5, 5)"
   ],
   "metadata": {
    "collapsed": false,
    "ExecuteTime": {
     "end_time": "2024-03-20T11:32:51.720115Z",
     "start_time": "2024-03-20T11:32:44.050496Z"
    }
   },
   "id": "818e998b1b9f7b7b",
   "execution_count": 39
  },
  {
   "cell_type": "code",
   "outputs": [
    {
     "data": {
      "text/plain": "array([[0, 0, 0, 0],\n       [0, 1, 1, 0],\n       [0, 1, 1, 0],\n       [0, 0, 0, 0]])"
     },
     "execution_count": 40,
     "metadata": {},
     "output_type": "execute_result"
    }
   ],
   "source": [
    "task_12_a(4)"
   ],
   "metadata": {
    "collapsed": false,
    "ExecuteTime": {
     "end_time": "2024-03-20T11:32:51.729664Z",
     "start_time": "2024-03-20T11:32:51.721877Z"
    }
   },
   "id": "8cceb5a0b7ba5720",
   "execution_count": 40
  },
  {
   "cell_type": "code",
   "outputs": [
    {
     "name": "stdout",
     "output_type": "stream",
     "text": [
      "1.16 µs ± 15.6 ns per loop (mean ± std. dev. of 7 runs, 1,000,000 loops each)\n"
     ]
    }
   ],
   "source": [
    "%timeit task_12_a(4)"
   ],
   "metadata": {
    "collapsed": false,
    "ExecuteTime": {
     "end_time": "2024-03-20T11:33:01.150633Z",
     "start_time": "2024-03-20T11:32:51.731831Z"
    }
   },
   "id": "975e3a86cfa12640",
   "execution_count": 41
  },
  {
   "cell_type": "code",
   "outputs": [
    {
     "data": {
      "text/plain": "[[0, 0, 0, 0], [0, 1, 1, 0], [0, 1, 1, 0], [0, 0, 0, 0]]"
     },
     "execution_count": 42,
     "metadata": {},
     "output_type": "execute_result"
    }
   ],
   "source": [
    "task_12_b(4)"
   ],
   "metadata": {
    "collapsed": false,
    "ExecuteTime": {
     "end_time": "2024-03-20T11:33:01.158470Z",
     "start_time": "2024-03-20T11:33:01.152796Z"
    }
   },
   "id": "7f2f107f6a6e3bad",
   "execution_count": 42
  },
  {
   "cell_type": "code",
   "outputs": [
    {
     "name": "stdout",
     "output_type": "stream",
     "text": [
      "2.1 µs ± 36.2 ns per loop (mean ± std. dev. of 7 runs, 100,000 loops each)\n"
     ]
    }
   ],
   "source": [
    "%timeit task_12_b(4)"
   ],
   "metadata": {
    "collapsed": false,
    "ExecuteTime": {
     "end_time": "2024-03-20T11:33:02.870170Z",
     "start_time": "2024-03-20T11:33:01.160096Z"
    }
   },
   "id": "f53a977273caf589",
   "execution_count": 43
  },
  {
   "cell_type": "code",
   "outputs": [
    {
     "data": {
      "text/plain": "array([[0, 1, 0, 1, 0, 1, 0, 1],\n       [1, 0, 1, 0, 1, 0, 1, 0],\n       [0, 1, 0, 1, 0, 1, 0, 1],\n       [1, 0, 1, 0, 1, 0, 1, 0],\n       [0, 1, 0, 1, 0, 1, 0, 1],\n       [1, 0, 1, 0, 1, 0, 1, 0],\n       [0, 1, 0, 1, 0, 1, 0, 1],\n       [1, 0, 1, 0, 1, 0, 1, 0]])"
     },
     "execution_count": 44,
     "metadata": {},
     "output_type": "execute_result"
    }
   ],
   "source": [
    "task_14_a()"
   ],
   "metadata": {
    "collapsed": false,
    "ExecuteTime": {
     "end_time": "2024-03-20T11:33:02.878127Z",
     "start_time": "2024-03-20T11:33:02.871858Z"
    }
   },
   "id": "a9c97c1e39ebe27e",
   "execution_count": 44
  },
  {
   "cell_type": "code",
   "outputs": [
    {
     "name": "stdout",
     "output_type": "stream",
     "text": [
      "6.08 µs ± 243 ns per loop (mean ± std. dev. of 7 runs, 100,000 loops each)\n"
     ]
    }
   ],
   "source": [
    "%timeit task_14_a()"
   ],
   "metadata": {
    "collapsed": false,
    "ExecuteTime": {
     "end_time": "2024-03-20T11:33:07.816286Z",
     "start_time": "2024-03-20T11:33:02.880333Z"
    }
   },
   "id": "148ba3e5163bcc25",
   "execution_count": 45
  },
  {
   "cell_type": "code",
   "outputs": [
    {
     "data": {
      "text/plain": "[[0, 1, 0, 1, 0, 1, 0, 1],\n [1, 0, 1, 0, 1, 0, 1, 0],\n [0, 1, 0, 1, 0, 1, 0, 1],\n [1, 0, 1, 0, 1, 0, 1, 0],\n [0, 1, 0, 1, 0, 1, 0, 1],\n [1, 0, 1, 0, 1, 0, 1, 0],\n [0, 1, 0, 1, 0, 1, 0, 1],\n [1, 0, 1, 0, 1, 0, 1, 0]]"
     },
     "execution_count": 46,
     "metadata": {},
     "output_type": "execute_result"
    }
   ],
   "source": [
    "task_14_b()"
   ],
   "metadata": {
    "collapsed": false,
    "ExecuteTime": {
     "end_time": "2024-03-20T11:33:07.825085Z",
     "start_time": "2024-03-20T11:33:07.817298Z"
    }
   },
   "id": "5f1e1c080bbd7cd1",
   "execution_count": 46
  },
  {
   "cell_type": "code",
   "outputs": [
    {
     "name": "stdout",
     "output_type": "stream",
     "text": [
      "7.37 µs ± 97.5 ns per loop (mean ± std. dev. of 7 runs, 100,000 loops each)\n"
     ]
    }
   ],
   "source": [
    "%timeit task_14_b()"
   ],
   "metadata": {
    "collapsed": false,
    "ExecuteTime": {
     "end_time": "2024-03-20T11:33:13.816255Z",
     "start_time": "2024-03-20T11:33:07.827322Z"
    }
   },
   "id": "5dcafa51af52375c",
   "execution_count": 47
  },
  {
   "cell_type": "code",
   "outputs": [
    {
     "data": {
      "text/plain": "array([[0, 1, 0, 1, 0],\n       [0, 1, 0, 1, 0],\n       [0, 1, 0, 1, 0],\n       [0, 1, 0, 1, 0],\n       [0, 1, 0, 1, 0]])"
     },
     "execution_count": 48,
     "metadata": {},
     "output_type": "execute_result"
    }
   ],
   "source": [
    "task_15_a(5)"
   ],
   "metadata": {
    "collapsed": false,
    "ExecuteTime": {
     "end_time": "2024-03-20T11:33:13.823547Z",
     "start_time": "2024-03-20T11:33:13.817759Z"
    }
   },
   "id": "4e2cc4afc5d5bb68",
   "execution_count": 48
  },
  {
   "cell_type": "code",
   "outputs": [
    {
     "name": "stdout",
     "output_type": "stream",
     "text": [
      "2.23 µs ± 20.6 ns per loop (mean ± std. dev. of 7 runs, 100,000 loops each)\n"
     ]
    }
   ],
   "source": [
    "%timeit task_15_a(5)"
   ],
   "metadata": {
    "collapsed": false,
    "ExecuteTime": {
     "end_time": "2024-03-20T11:33:15.656215Z",
     "start_time": "2024-03-20T11:33:13.825253Z"
    }
   },
   "id": "83f022a04d382c8e",
   "execution_count": 49
  },
  {
   "cell_type": "code",
   "outputs": [
    {
     "data": {
      "text/plain": "[[0, 1, 0, 1, 0],\n [0, 1, 0, 1, 0],\n [0, 1, 0, 1, 0],\n [0, 1, 0, 1, 0],\n [0, 1, 0, 1, 0]]"
     },
     "execution_count": 50,
     "metadata": {},
     "output_type": "execute_result"
    }
   ],
   "source": [
    "task_15_b(5)"
   ],
   "metadata": {
    "collapsed": false,
    "ExecuteTime": {
     "end_time": "2024-03-20T11:33:15.663510Z",
     "start_time": "2024-03-20T11:33:15.658295Z"
    }
   },
   "id": "76b75b4bdab1aa83",
   "execution_count": 50
  },
  {
   "cell_type": "code",
   "outputs": [
    {
     "name": "stdout",
     "output_type": "stream",
     "text": [
      "2.56 µs ± 22.2 ns per loop (mean ± std. dev. of 7 runs, 100,000 loops each)\n"
     ]
    }
   ],
   "source": [
    "%timeit task_15_b(5)"
   ],
   "metadata": {
    "collapsed": false,
    "ExecuteTime": {
     "end_time": "2024-03-20T11:33:17.759016Z",
     "start_time": "2024-03-20T11:33:15.665763Z"
    }
   },
   "id": "10336bfa56490399",
   "execution_count": 51
  },
  {
   "cell_type": "code",
   "outputs": [
    {
     "data": {
      "text/plain": "array([[ 6, -9, -9,  8],\n       [ 2,  1,  7,  0],\n       [ 0,  3,  8,  7],\n       [ 8,  4,  2,  6]])"
     },
     "execution_count": 52,
     "metadata": {},
     "output_type": "execute_result"
    }
   ],
   "source": [
    "task_21_a(4, 10)"
   ],
   "metadata": {
    "collapsed": false,
    "ExecuteTime": {
     "end_time": "2024-03-20T11:33:17.767065Z",
     "start_time": "2024-03-20T11:33:17.761027Z"
    }
   },
   "id": "aabc3b6e3c94bd30",
   "execution_count": 52
  },
  {
   "cell_type": "code",
   "outputs": [
    {
     "name": "stdout",
     "output_type": "stream",
     "text": [
      "17 µs ± 65.3 ns per loop (mean ± std. dev. of 7 runs, 100,000 loops each)\n"
     ]
    }
   ],
   "source": [
    "%timeit task_21_a(4, 10)"
   ],
   "metadata": {
    "collapsed": false,
    "ExecuteTime": {
     "end_time": "2024-03-20T11:33:31.608307Z",
     "start_time": "2024-03-20T11:33:17.768114Z"
    }
   },
   "id": "6879d4a756c2c9b",
   "execution_count": 53
  },
  {
   "cell_type": "code",
   "outputs": [
    {
     "data": {
      "text/plain": "[[3, 7, 8, 2], [-9, 3, 6, 8], [7, 8, 3, 0], [5, 0, 8, 0]]"
     },
     "execution_count": 54,
     "metadata": {},
     "output_type": "execute_result"
    }
   ],
   "source": [
    "task_21_b(4, 10)"
   ],
   "metadata": {
    "collapsed": false,
    "ExecuteTime": {
     "end_time": "2024-03-20T11:33:31.616284Z",
     "start_time": "2024-03-20T11:33:31.610373Z"
    }
   },
   "id": "b28d7d969114850b",
   "execution_count": 54
  },
  {
   "cell_type": "code",
   "outputs": [
    {
     "name": "stdout",
     "output_type": "stream",
     "text": [
      "10.5 µs ± 48.9 ns per loop (mean ± std. dev. of 7 runs, 100,000 loops each)\n"
     ]
    }
   ],
   "source": [
    "%timeit task_21_b(4, 10)"
   ],
   "metadata": {
    "collapsed": false,
    "ExecuteTime": {
     "end_time": "2024-03-20T11:33:40.133571Z",
     "start_time": "2024-03-20T11:33:31.617417Z"
    }
   },
   "id": "318711932c2c25ba",
   "execution_count": 55
  },
  {
   "cell_type": "markdown",
   "source": [
    "# Task 2"
   ],
   "metadata": {
    "collapsed": false
   },
   "id": "eba7cdabe7e89720"
  },
  {
   "cell_type": "code",
   "outputs": [],
   "source": [
    "A = np.array([[1, 3, 5, 7],\n",
    "              [3, 5, 7, 1],\n",
    "              [5, 7, 1, 3],\n",
    "              [7, 1, 3, 5]])\n",
    "\n",
    "B = np.array([12, 0, 4, 16])"
   ],
   "metadata": {
    "collapsed": false,
    "ExecuteTime": {
     "end_time": "2024-03-20T11:33:40.139456Z",
     "start_time": "2024-03-20T11:33:40.135485Z"
    }
   },
   "id": "ba3dae773a85f306",
   "execution_count": 56
  },
  {
   "cell_type": "code",
   "outputs": [],
   "source": [
    "def solution_cramer(a, b):\n",
    "    n = len(b)\n",
    "    det_a = np.linalg.det(a)\n",
    "    x = np.zeros(n)\n",
    "    for i in range(n):\n",
    "        a_temp = A.copy()\n",
    "        a_temp[:, i] = b\n",
    "        x[i] = np.linalg.det(a_temp)/ det_a\n",
    "    return x"
   ],
   "metadata": {
    "collapsed": false,
    "ExecuteTime": {
     "end_time": "2024-03-20T11:33:40.154020Z",
     "start_time": "2024-03-20T11:33:40.140572Z"
    }
   },
   "id": "360fb4bf0080ca8d",
   "execution_count": 57
  },
  {
   "cell_type": "code",
   "outputs": [],
   "source": [
    "def solution_matrix_multiplication(a, b):\n",
    "    p, l, u = scipy.linalg.lu(a)\n",
    "\n",
    "    pb = p @ b\n",
    "    y = np.linalg.solve(l, pb)\n",
    "\n",
    "    return np.linalg.solve(u, y)"
   ],
   "metadata": {
    "collapsed": false,
    "ExecuteTime": {
     "end_time": "2024-03-20T11:33:40.160012Z",
     "start_time": "2024-03-20T11:33:40.156546Z"
    }
   },
   "id": "4cbef7ad6542b6b",
   "execution_count": 58
  },
  {
   "cell_type": "code",
   "outputs": [],
   "source": [
    "def solution_inverse_matrix(a, b):\n",
    "    return np.linalg.inv(a) @ b"
   ],
   "metadata": {
    "collapsed": false,
    "ExecuteTime": {
     "end_time": "2024-03-20T11:33:40.166839Z",
     "start_time": "2024-03-20T11:33:40.161540Z"
    }
   },
   "id": "992ef2baf599862b",
   "execution_count": 59
  },
  {
   "cell_type": "code",
   "outputs": [],
   "source": [
    "def solution_numpy_linalg_solve(a, b):\n",
    "    return np.linalg.solve(a, b)"
   ],
   "metadata": {
    "collapsed": false,
    "ExecuteTime": {
     "end_time": "2024-03-20T11:33:40.173688Z",
     "start_time": "2024-03-20T11:33:40.167853Z"
    }
   },
   "id": "7b6c1adcb349de99",
   "execution_count": 60
  },
  {
   "cell_type": "code",
   "outputs": [
    {
     "data": {
      "text/plain": "array([ 1.000e+00, -1.000e+00, -1.249e-16,  2.000e+00])"
     },
     "execution_count": 61,
     "metadata": {},
     "output_type": "execute_result"
    }
   ],
   "source": [
    "solution_cramer(A, B)"
   ],
   "metadata": {
    "collapsed": false,
    "ExecuteTime": {
     "end_time": "2024-03-20T11:33:40.184181Z",
     "start_time": "2024-03-20T11:33:40.175101Z"
    }
   },
   "id": "dc4e7c12c6c49bc5",
   "execution_count": 61
  },
  {
   "cell_type": "code",
   "outputs": [
    {
     "data": {
      "text/plain": "array([ 1.000e+00, -1.000e+00, -1.018e-16,  2.000e+00])"
     },
     "execution_count": 62,
     "metadata": {},
     "output_type": "execute_result"
    }
   ],
   "source": [
    "solution_matrix_multiplication(A, B)"
   ],
   "metadata": {
    "collapsed": false,
    "ExecuteTime": {
     "end_time": "2024-03-20T11:33:41.167908Z",
     "start_time": "2024-03-20T11:33:40.186194Z"
    }
   },
   "id": "43838b061ef5d12f",
   "execution_count": 62
  },
  {
   "cell_type": "code",
   "outputs": [
    {
     "data": {
      "text/plain": "array([ 1.00e+00, -1.00e+00, -2.22e-16,  2.00e+00])"
     },
     "execution_count": 63,
     "metadata": {},
     "output_type": "execute_result"
    }
   ],
   "source": [
    "solution_inverse_matrix(A, B)"
   ],
   "metadata": {
    "collapsed": false,
    "ExecuteTime": {
     "end_time": "2024-03-20T11:33:41.177136Z",
     "start_time": "2024-03-20T11:33:41.169049Z"
    }
   },
   "id": "ddecbbbd85a7068a",
   "execution_count": 63
  },
  {
   "cell_type": "code",
   "outputs": [
    {
     "data": {
      "text/plain": "array([ 1.000e+00, -1.000e+00, -1.018e-16,  2.000e+00])"
     },
     "execution_count": 64,
     "metadata": {},
     "output_type": "execute_result"
    }
   ],
   "source": [
    "solution_numpy_linalg_solve(A, B)"
   ],
   "metadata": {
    "collapsed": false,
    "ExecuteTime": {
     "end_time": "2024-03-20T11:33:41.184418Z",
     "start_time": "2024-03-20T11:33:41.179153Z"
    }
   },
   "id": "3fba6b55e317c33",
   "execution_count": 64
  },
  {
   "cell_type": "code",
   "outputs": [
    {
     "data": {
      "text/plain": "True"
     },
     "execution_count": 65,
     "metadata": {},
     "output_type": "execute_result"
    }
   ],
   "source": [
    "np.allclose(solution_cramer(A, B), solution_matrix_multiplication(A, B))"
   ],
   "metadata": {
    "collapsed": false,
    "ExecuteTime": {
     "end_time": "2024-03-20T11:33:41.192116Z",
     "start_time": "2024-03-20T11:33:41.186472Z"
    }
   },
   "id": "342acde66d0c06c",
   "execution_count": 65
  },
  {
   "cell_type": "code",
   "outputs": [
    {
     "data": {
      "text/plain": "True"
     },
     "execution_count": 66,
     "metadata": {},
     "output_type": "execute_result"
    }
   ],
   "source": [
    "np.allclose(solution_matrix_multiplication(A, B), solution_inverse_matrix(A, B))"
   ],
   "metadata": {
    "collapsed": false,
    "ExecuteTime": {
     "end_time": "2024-03-20T11:33:41.200312Z",
     "start_time": "2024-03-20T11:33:41.193138Z"
    }
   },
   "id": "ef8e0f9d2d52988",
   "execution_count": 66
  },
  {
   "cell_type": "code",
   "outputs": [
    {
     "data": {
      "text/plain": "True"
     },
     "execution_count": 67,
     "metadata": {},
     "output_type": "execute_result"
    }
   ],
   "source": [
    "np.allclose(solution_inverse_matrix(A, B), solution_numpy_linalg_solve(A, B))"
   ],
   "metadata": {
    "collapsed": false,
    "ExecuteTime": {
     "end_time": "2024-03-20T11:33:41.209525Z",
     "start_time": "2024-03-20T11:33:41.201873Z"
    }
   },
   "id": "cec527391b038111",
   "execution_count": 67
  },
  {
   "cell_type": "markdown",
   "source": [
    "# Task 3"
   ],
   "metadata": {
    "collapsed": false
   },
   "id": "ff523c5322d9de89"
  },
  {
   "cell_type": "code",
   "outputs": [],
   "source": [
    "A = np.array([[5, 2, 0],\n",
    "              [10, 4, 1],\n",
    "              [7, 3, 2]])\n",
    "\n",
    "B = np.array([[3, 6, -1],\n",
    "              [-1, -2, 0],\n",
    "              [2, 1, 3]])"
   ],
   "metadata": {
    "collapsed": false,
    "ExecuteTime": {
     "end_time": "2024-03-20T11:33:41.216240Z",
     "start_time": "2024-03-20T11:33:41.210496Z"
    }
   },
   "id": "cb64f005d25c7903",
   "execution_count": 68
  },
  {
   "cell_type": "code",
   "outputs": [],
   "source": [
    "def solution_numpy(a, b):\n",
    "    return (a - b @ b) * (2 * a + b)"
   ],
   "metadata": {
    "collapsed": false,
    "ExecuteTime": {
     "end_time": "2024-03-20T11:33:41.222271Z",
     "start_time": "2024-03-20T11:33:41.217276Z"
    }
   },
   "id": "bf794497511233e5",
   "execution_count": 69
  },
  {
   "cell_type": "code",
   "outputs": [],
   "source": [
    "def solution_iterative(a, b):\n",
    "    result = []\n",
    "    for i in range(len(a)):\n",
    "        row = []\n",
    "        for j in range(len(a[0])):\n",
    "            element = (a[i][j] - sum(b[i][k] * b[k][j] for k in range(len(b)))) * (2 * a[i][j] + b[i][j])\n",
    "            row.append(element)\n",
    "        result.append(row)\n",
    "    return result"
   ],
   "metadata": {
    "collapsed": false,
    "ExecuteTime": {
     "end_time": "2024-03-20T11:33:41.229651Z",
     "start_time": "2024-03-20T11:33:41.224298Z"
    }
   },
   "id": "d99e488c7e879f33",
   "execution_count": 70
  },
  {
   "cell_type": "code",
   "outputs": [
    {
     "data": {
      "text/plain": "array([[ 52, -30,  -6],\n       [209,  36,   0],\n       [-64, -70, -35]])"
     },
     "execution_count": 71,
     "metadata": {},
     "output_type": "execute_result"
    }
   ],
   "source": [
    "solution_numpy(A, B)"
   ],
   "metadata": {
    "collapsed": false,
    "ExecuteTime": {
     "end_time": "2024-03-20T11:33:41.238318Z",
     "start_time": "2024-03-20T11:33:41.231407Z"
    }
   },
   "id": "28abf7b26d827302",
   "execution_count": 71
  },
  {
   "cell_type": "code",
   "outputs": [
    {
     "name": "stdout",
     "output_type": "stream",
     "text": [
      "4.56 µs ± 39.1 ns per loop (mean ± std. dev. of 7 runs, 100,000 loops each)\n"
     ]
    }
   ],
   "source": [
    "%timeit solution_numpy(A, B)"
   ],
   "metadata": {
    "collapsed": false,
    "ExecuteTime": {
     "end_time": "2024-03-20T11:33:44.959126Z",
     "start_time": "2024-03-20T11:33:41.240347Z"
    }
   },
   "id": "da88b20f22ba59ba",
   "execution_count": 72
  },
  {
   "cell_type": "code",
   "outputs": [
    {
     "data": {
      "text/plain": "[[52, -30, -6], [209, 36, 0], [-64, -70, -35]]"
     },
     "execution_count": 73,
     "metadata": {},
     "output_type": "execute_result"
    }
   ],
   "source": [
    "solution_iterative(A, B)"
   ],
   "metadata": {
    "collapsed": false,
    "ExecuteTime": {
     "end_time": "2024-03-20T11:33:44.966816Z",
     "start_time": "2024-03-20T11:33:44.960150Z"
    }
   },
   "id": "e7e7f91f740ea26",
   "execution_count": 73
  },
  {
   "cell_type": "code",
   "outputs": [
    {
     "name": "stdout",
     "output_type": "stream",
     "text": [
      "28 µs ± 870 ns per loop (mean ± std. dev. of 7 runs, 10,000 loops each)\n"
     ]
    }
   ],
   "source": [
    "%timeit solution_iterative(A, B)"
   ],
   "metadata": {
    "collapsed": false,
    "ExecuteTime": {
     "end_time": "2024-03-20T11:33:47.247094Z",
     "start_time": "2024-03-20T11:33:44.968361Z"
    }
   },
   "id": "a590add4b557934f",
   "execution_count": 74
  },
  {
   "cell_type": "code",
   "outputs": [
    {
     "data": {
      "text/plain": "True"
     },
     "execution_count": 75,
     "metadata": {},
     "output_type": "execute_result"
    }
   ],
   "source": [
    "np.allclose(solution_numpy(A, B), solution_iterative(A, B))"
   ],
   "metadata": {
    "collapsed": false,
    "ExecuteTime": {
     "end_time": "2024-03-20T11:33:47.254386Z",
     "start_time": "2024-03-20T11:33:47.248136Z"
    }
   },
   "id": "500e1478e8fff740",
   "execution_count": 75
  }
 ],
 "metadata": {
  "kernelspec": {
   "display_name": "Python 3",
   "language": "python",
   "name": "python3"
  },
  "language_info": {
   "codemirror_mode": {
    "name": "ipython",
    "version": 2
   },
   "file_extension": ".py",
   "mimetype": "text/x-python",
   "name": "python",
   "nbconvert_exporter": "python",
   "pygments_lexer": "ipython2",
   "version": "2.7.6"
  }
 },
 "nbformat": 4,
 "nbformat_minor": 5
}
