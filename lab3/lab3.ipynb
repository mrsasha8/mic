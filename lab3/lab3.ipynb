{
 "cells": [
  {
   "cell_type": "code",
   "outputs": [],
   "source": [
    "import pandas as pd\n",
    "import matplotlib.pyplot as plt"
   ],
   "metadata": {
    "collapsed": true,
    "ExecuteTime": {
     "end_time": "2024-03-20T12:09:47.955333Z",
     "start_time": "2024-03-20T12:09:45.148097Z"
    }
   },
   "id": "initial_id",
   "execution_count": 1
  },
  {
   "cell_type": "code",
   "outputs": [],
   "source": [
    "names = pd.read_csv('NationalNames.csv')"
   ],
   "metadata": {
    "collapsed": false,
    "ExecuteTime": {
     "end_time": "2024-03-20T12:09:48.743907Z",
     "start_time": "2024-03-20T12:09:47.957520Z"
    }
   },
   "id": "9dc7445f96b30b3e",
   "execution_count": 2
  },
  {
   "cell_type": "code",
   "outputs": [],
   "source": [
    "def task_2(data: pd.DataFrame):\n",
    "    return data.tail(8)"
   ],
   "metadata": {
    "collapsed": false,
    "ExecuteTime": {
     "end_time": "2024-03-20T12:09:48.749723Z",
     "start_time": "2024-03-20T12:09:48.745974Z"
    }
   },
   "id": "392aeb7512f11d48",
   "execution_count": 3
  },
  {
   "cell_type": "code",
   "outputs": [],
   "source": [
    "def task_4(data: pd.DataFrame):\n",
    "    return data.describe()"
   ],
   "metadata": {
    "collapsed": false,
    "ExecuteTime": {
     "end_time": "2024-03-20T12:09:48.764597Z",
     "start_time": "2024-03-20T12:09:48.751369Z"
    }
   },
   "id": "4d75eb2bcfee049e",
   "execution_count": 4
  },
  {
   "cell_type": "code",
   "outputs": [],
   "source": [
    "def task_6(data: pd.DataFrame):\n",
    "    return data.groupby('Gender')['Name'].nunique()"
   ],
   "metadata": {
    "collapsed": false,
    "ExecuteTime": {
     "end_time": "2024-03-20T12:09:48.770698Z",
     "start_time": "2024-03-20T12:09:48.766932Z"
    }
   },
   "id": "c775434791a32d93",
   "execution_count": 5
  },
  {
   "cell_type": "code",
   "outputs": [],
   "source": [
    "def task_7(data: pd.DataFrame):\n",
    "    male_names_2010 = data[(data['Year'] == 2010) & (data['Gender'] == 'M')]\n",
    "\n",
    "    male_names_2010_count = male_names_2010.groupby(['Id', 'Name', 'Year', 'Gender'])['Count'].sum()\n",
    "\n",
    "    return male_names_2010_count.nlargest(5)"
   ],
   "metadata": {
    "collapsed": false,
    "ExecuteTime": {
     "end_time": "2024-03-20T12:09:48.778971Z",
     "start_time": "2024-03-20T12:09:48.774124Z"
    }
   },
   "id": "8c4ba04d4f51f657",
   "execution_count": 6
  },
  {
   "cell_type": "code",
   "outputs": [],
   "source": [
    "def task_9(data: pd.DataFrame):\n",
    "    return data[data['Count'] == 5].shape[0]"
   ],
   "metadata": {
    "collapsed": false,
    "ExecuteTime": {
     "end_time": "2024-03-20T12:09:48.785690Z",
     "start_time": "2024-03-20T12:09:48.780921Z"
    }
   },
   "id": "af453bff23c3b21d",
   "execution_count": 7
  },
  {
   "cell_type": "code",
   "outputs": [],
   "source": [
    "def task_10(data: pd.DataFrame):\n",
    "    return data.groupby('Year')['Name'].nunique()"
   ],
   "metadata": {
    "collapsed": false,
    "ExecuteTime": {
     "end_time": "2024-03-20T12:09:48.792307Z",
     "start_time": "2024-03-20T12:09:48.787388Z"
    }
   },
   "id": "c9858d7f96a6e1d7",
   "execution_count": 8
  },
  {
   "cell_type": "code",
   "outputs": [],
   "source": [
    "def task_15(data: pd.DataFrame):\n",
    "    return data.groupby('Year')['Count'].sum()"
   ],
   "metadata": {
    "collapsed": false,
    "ExecuteTime": {
     "end_time": "2024-03-20T12:09:48.799139Z",
     "start_time": "2024-03-20T12:09:48.794319Z"
    }
   },
   "id": "312855e2f6388a09",
   "execution_count": 9
  },
  {
   "cell_type": "code",
   "outputs": [],
   "source": [
    "def task_16(data: pd.DataFrame):\n",
    "    return data.groupby('Year')['Count'].sum().idxmax()"
   ],
   "metadata": {
    "collapsed": false,
    "ExecuteTime": {
     "end_time": "2024-03-20T12:09:48.805148Z",
     "start_time": "2024-03-20T12:09:48.801149Z"
    }
   },
   "id": "d46820071bde245c",
   "execution_count": 10
  },
  {
   "cell_type": "code",
   "outputs": [],
   "source": [
    "def task_17(data: pd.DataFrame):\n",
    "    return data.groupby(['Year', 'Gender'])['Count'].sum().unstack()"
   ],
   "metadata": {
    "collapsed": false,
    "ExecuteTime": {
     "end_time": "2024-03-20T12:09:48.811885Z",
     "start_time": "2024-03-20T12:09:48.806690Z"
    }
   },
   "id": "eebdb3f2791c3630",
   "execution_count": 11
  },
  {
   "cell_type": "code",
   "outputs": [],
   "source": [
    "def task_18(data: pd.DataFrame):\n",
    "    births_gender_year = data.groupby(['Year', 'Gender'])['Count'].sum().unstack()\n",
    "    \n",
    "    return (births_gender_year['F'] > births_gender_year['M']).sum()"
   ],
   "metadata": {
    "collapsed": false,
    "ExecuteTime": {
     "end_time": "2024-03-20T12:09:48.817905Z",
     "start_time": "2024-03-20T12:09:48.812912Z"
    }
   },
   "id": "6480137ae60a2269",
   "execution_count": 12
  },
  {
   "cell_type": "code",
   "outputs": [],
   "source": [
    "def task_20(data: pd.DataFrame):\n",
    "    names_gender_count = data.groupby(['Name', 'Gender'])['Count'].sum().unstack()\n",
    "    \n",
    "    return names_gender_count[(names_gender_count['M'] > 0) & (names_gender_count['F'] > 0)].shape[0]"
   ],
   "metadata": {
    "collapsed": false,
    "ExecuteTime": {
     "end_time": "2024-03-20T12:09:48.825256Z",
     "start_time": "2024-03-20T12:09:48.819915Z"
    }
   },
   "id": "ec7aee5af19313d8",
   "execution_count": 13
  },
  {
   "cell_type": "code",
   "outputs": [],
   "source": [
    "def task_21(data: pd.DataFrame):\n",
    "    return data[(data['Name'] == 'Barbara') & (data['Gender'] == 'M')]['Count'].sum()"
   ],
   "metadata": {
    "collapsed": false,
    "ExecuteTime": {
     "end_time": "2024-03-20T12:09:48.832102Z",
     "start_time": "2024-03-20T12:09:48.827857Z"
    }
   },
   "id": "73c6e96381743fa6",
   "execution_count": 14
  },
  {
   "cell_type": "code",
   "outputs": [],
   "source": [
    "def task_22(data: pd.DataFrame):\n",
    "    return data['Year'].nunique()"
   ],
   "metadata": {
    "collapsed": false,
    "ExecuteTime": {
     "end_time": "2024-03-20T12:09:48.838520Z",
     "start_time": "2024-03-20T12:09:48.833639Z"
    }
   },
   "id": "775041e65f2408e0",
   "execution_count": 15
  },
  {
   "cell_type": "code",
   "outputs": [],
   "source": [
    "def task_23(data: pd.DataFrame):\n",
    "    names_gender_count = data.groupby(['Name', 'Gender'])['Count'].sum().unstack()\n",
    "    \n",
    "    names_gender_count['Total_Count'] = names_gender_count['F'] + names_gender_count['M']\n",
    "    \n",
    "    return names_gender_count.nlargest(15, 'Total_Count').reset_index()['Name']"
   ],
   "metadata": {
    "collapsed": false,
    "ExecuteTime": {
     "end_time": "2024-03-20T12:09:48.844497Z",
     "start_time": "2024-03-20T12:09:48.839814Z"
    }
   },
   "id": "39c5d47730653d2d",
   "execution_count": 16
  },
  {
   "cell_type": "code",
   "outputs": [],
   "source": [
    "def task_24(data: pd.DataFrame):\n",
    "    return data.groupby('Name')['Count'].sum().sort_values(ascending=True).head(50000).nlargest(1)"
   ],
   "metadata": {
    "collapsed": false,
    "ExecuteTime": {
     "end_time": "2024-03-20T12:09:48.851821Z",
     "start_time": "2024-03-20T12:09:48.847043Z"
    }
   },
   "id": "b6006f28cd7ef2d2",
   "execution_count": 17
  },
  {
   "cell_type": "code",
   "outputs": [],
   "source": [
    "def task_25(data: pd.DataFrame):\n",
    "    plot_data = data[data['Name'].isin(['John', 'Mary'])].pivot_table(index='Year', columns='Name', values='Count', aggfunc='sum')\n",
    "\n",
    "    plot_data.plot(kind='line', figsize=(10, 6))\n",
    "    plt.xlabel('Year')\n",
    "    plt.show()"
   ],
   "metadata": {
    "collapsed": false,
    "ExecuteTime": {
     "end_time": "2024-03-20T12:09:48.862349Z",
     "start_time": "2024-03-20T12:09:48.857173Z"
    }
   },
   "id": "14123b3ddb524636",
   "execution_count": 18
  },
  {
   "cell_type": "code",
   "outputs": [],
   "source": [
    "def task_26(data: pd.DataFrame):\n",
    "    plot_data = data[(data['Name'] == 'John') & (data['Gender'] == 'F') | (data['Name'] == 'Mary') & (data['Gender'] == 'M')].pivot_table(index='Year', columns='Name', values='Count', aggfunc='sum')\n",
    "\n",
    "    plot_data.plot(kind='line', figsize=(10, 6))\n",
    "    plt.xlabel('Year')\n",
    "    plt.show()"
   ],
   "metadata": {
    "collapsed": false,
    "ExecuteTime": {
     "end_time": "2024-03-20T12:09:48.869777Z",
     "start_time": "2024-03-20T12:09:48.864535Z"
    }
   },
   "id": "e33fd14cf93c2a01",
   "execution_count": 19
  },
  {
   "cell_type": "code",
   "outputs": [],
   "source": [
    "def task_27(data: pd.DataFrame):\n",
    "    most_popular_names = data.groupby(['Year', 'Name'])['Count'].sum().reset_index()\n",
    "    \n",
    "    return most_popular_names.loc[most_popular_names.groupby('Year')['Count'].idxmax(), ['Year', 'Name']]"
   ],
   "metadata": {
    "collapsed": false,
    "ExecuteTime": {
     "end_time": "2024-03-20T12:09:48.877391Z",
     "start_time": "2024-03-20T12:09:48.872126Z"
    }
   },
   "id": "a72d38ccb4e24152",
   "execution_count": 20
  },
  {
   "cell_type": "code",
   "outputs": [
    {
     "data": {
      "text/plain": "              Id     Name  Year Gender  Count\n1825425  1825426       Zo  2014      M      5\n1825426  1825427    Zyeir  2014      M      5\n1825427  1825428     Zyel  2014      M      5\n1825428  1825429   Zykeem  2014      M      5\n1825429  1825430   Zymeer  2014      M      5\n1825430  1825431  Zymiere  2014      M      5\n1825431  1825432    Zyran  2014      M      5\n1825432  1825433    Zyrin  2014      M      5",
      "text/html": "<div>\n<style scoped>\n    .dataframe tbody tr th:only-of-type {\n        vertical-align: middle;\n    }\n\n    .dataframe tbody tr th {\n        vertical-align: top;\n    }\n\n    .dataframe thead th {\n        text-align: right;\n    }\n</style>\n<table border=\"1\" class=\"dataframe\">\n  <thead>\n    <tr style=\"text-align: right;\">\n      <th></th>\n      <th>Id</th>\n      <th>Name</th>\n      <th>Year</th>\n      <th>Gender</th>\n      <th>Count</th>\n    </tr>\n  </thead>\n  <tbody>\n    <tr>\n      <th>1825425</th>\n      <td>1825426</td>\n      <td>Zo</td>\n      <td>2014</td>\n      <td>M</td>\n      <td>5</td>\n    </tr>\n    <tr>\n      <th>1825426</th>\n      <td>1825427</td>\n      <td>Zyeir</td>\n      <td>2014</td>\n      <td>M</td>\n      <td>5</td>\n    </tr>\n    <tr>\n      <th>1825427</th>\n      <td>1825428</td>\n      <td>Zyel</td>\n      <td>2014</td>\n      <td>M</td>\n      <td>5</td>\n    </tr>\n    <tr>\n      <th>1825428</th>\n      <td>1825429</td>\n      <td>Zykeem</td>\n      <td>2014</td>\n      <td>M</td>\n      <td>5</td>\n    </tr>\n    <tr>\n      <th>1825429</th>\n      <td>1825430</td>\n      <td>Zymeer</td>\n      <td>2014</td>\n      <td>M</td>\n      <td>5</td>\n    </tr>\n    <tr>\n      <th>1825430</th>\n      <td>1825431</td>\n      <td>Zymiere</td>\n      <td>2014</td>\n      <td>M</td>\n      <td>5</td>\n    </tr>\n    <tr>\n      <th>1825431</th>\n      <td>1825432</td>\n      <td>Zyran</td>\n      <td>2014</td>\n      <td>M</td>\n      <td>5</td>\n    </tr>\n    <tr>\n      <th>1825432</th>\n      <td>1825433</td>\n      <td>Zyrin</td>\n      <td>2014</td>\n      <td>M</td>\n      <td>5</td>\n    </tr>\n  </tbody>\n</table>\n</div>"
     },
     "execution_count": 21,
     "metadata": {},
     "output_type": "execute_result"
    }
   ],
   "source": [
    "task_2(names)"
   ],
   "metadata": {
    "collapsed": false,
    "ExecuteTime": {
     "end_time": "2024-03-20T12:09:48.896668Z",
     "start_time": "2024-03-20T12:09:48.878928Z"
    }
   },
   "id": "1754e3e2634d27b4",
   "execution_count": 21
  },
  {
   "cell_type": "code",
   "outputs": [
    {
     "data": {
      "text/plain": "                 Id          Year         Count\ncount  1.825433e+06  1.825433e+06  1.825433e+06\nmean   9.127170e+05  1.972620e+03  1.846879e+02\nstd    5.269573e+05  3.352891e+01  1.566711e+03\nmin    1.000000e+00  1.880000e+03  5.000000e+00\n25%    4.563590e+05  1.949000e+03  7.000000e+00\n50%    9.127170e+05  1.982000e+03  1.200000e+01\n75%    1.369075e+06  2.001000e+03  3.200000e+01\nmax    1.825433e+06  2.014000e+03  9.968000e+04",
      "text/html": "<div>\n<style scoped>\n    .dataframe tbody tr th:only-of-type {\n        vertical-align: middle;\n    }\n\n    .dataframe tbody tr th {\n        vertical-align: top;\n    }\n\n    .dataframe thead th {\n        text-align: right;\n    }\n</style>\n<table border=\"1\" class=\"dataframe\">\n  <thead>\n    <tr style=\"text-align: right;\">\n      <th></th>\n      <th>Id</th>\n      <th>Year</th>\n      <th>Count</th>\n    </tr>\n  </thead>\n  <tbody>\n    <tr>\n      <th>count</th>\n      <td>1.825433e+06</td>\n      <td>1.825433e+06</td>\n      <td>1.825433e+06</td>\n    </tr>\n    <tr>\n      <th>mean</th>\n      <td>9.127170e+05</td>\n      <td>1.972620e+03</td>\n      <td>1.846879e+02</td>\n    </tr>\n    <tr>\n      <th>std</th>\n      <td>5.269573e+05</td>\n      <td>3.352891e+01</td>\n      <td>1.566711e+03</td>\n    </tr>\n    <tr>\n      <th>min</th>\n      <td>1.000000e+00</td>\n      <td>1.880000e+03</td>\n      <td>5.000000e+00</td>\n    </tr>\n    <tr>\n      <th>25%</th>\n      <td>4.563590e+05</td>\n      <td>1.949000e+03</td>\n      <td>7.000000e+00</td>\n    </tr>\n    <tr>\n      <th>50%</th>\n      <td>9.127170e+05</td>\n      <td>1.982000e+03</td>\n      <td>1.200000e+01</td>\n    </tr>\n    <tr>\n      <th>75%</th>\n      <td>1.369075e+06</td>\n      <td>2.001000e+03</td>\n      <td>3.200000e+01</td>\n    </tr>\n    <tr>\n      <th>max</th>\n      <td>1.825433e+06</td>\n      <td>2.014000e+03</td>\n      <td>9.968000e+04</td>\n    </tr>\n  </tbody>\n</table>\n</div>"
     },
     "execution_count": 22,
     "metadata": {},
     "output_type": "execute_result"
    }
   ],
   "source": [
    "task_4(names)"
   ],
   "metadata": {
    "collapsed": false,
    "ExecuteTime": {
     "end_time": "2024-03-20T12:09:49.075294Z",
     "start_time": "2024-03-20T12:09:48.898691Z"
    }
   },
   "id": "a44ea87dabde4e12",
   "execution_count": 22
  },
  {
   "cell_type": "code",
   "outputs": [
    {
     "data": {
      "text/plain": "Gender\nF    64911\nM    39199\nName: Name, dtype: int64"
     },
     "execution_count": 23,
     "metadata": {},
     "output_type": "execute_result"
    }
   ],
   "source": [
    "task_6(names)"
   ],
   "metadata": {
    "collapsed": false,
    "ExecuteTime": {
     "end_time": "2024-03-20T12:09:49.606439Z",
     "start_time": "2024-03-20T12:09:49.076820Z"
    }
   },
   "id": "789c61164751dc05",
   "execution_count": 23
  },
  {
   "cell_type": "code",
   "outputs": [
    {
     "data": {
      "text/plain": "Id       Name     Year  Gender\n1677393  Jacob    2010  M         22082\n1677394  Ethan    2010  M         17985\n1677395  Michael  2010  M         17308\n1677396  Jayden   2010  M         17152\n1677397  William  2010  M         17030\nName: Count, dtype: int64"
     },
     "execution_count": 24,
     "metadata": {},
     "output_type": "execute_result"
    }
   ],
   "source": [
    "task_7(names)"
   ],
   "metadata": {
    "collapsed": false,
    "ExecuteTime": {
     "end_time": "2024-03-20T12:09:49.891799Z",
     "start_time": "2024-03-20T12:09:49.607548Z"
    }
   },
   "id": "6ef630c859ae8640",
   "execution_count": 24
  },
  {
   "cell_type": "code",
   "outputs": [
    {
     "data": {
      "text/plain": "254615"
     },
     "execution_count": 25,
     "metadata": {},
     "output_type": "execute_result"
    }
   ],
   "source": [
    "task_9(names)"
   ],
   "metadata": {
    "collapsed": false,
    "ExecuteTime": {
     "end_time": "2024-03-20T12:09:49.921245Z",
     "start_time": "2024-03-20T12:09:49.893819Z"
    }
   },
   "id": "12b2f1189c785685",
   "execution_count": 25
  },
  {
   "cell_type": "code",
   "outputs": [
    {
     "data": {
      "text/plain": "Year\n1880     1889\n1881     1830\n1882     2012\n1883     1962\n1884     2158\n        ...  \n2010    31603\n2011    31418\n2012    31236\n2013    30774\n2014    30579\nName: Name, Length: 135, dtype: int64"
     },
     "execution_count": 26,
     "metadata": {},
     "output_type": "execute_result"
    }
   ],
   "source": [
    "task_10(names)"
   ],
   "metadata": {
    "collapsed": false,
    "ExecuteTime": {
     "end_time": "2024-03-20T12:09:50.777543Z",
     "start_time": "2024-03-20T12:09:49.923229Z"
    }
   },
   "id": "60ff2203a0359921",
   "execution_count": 26
  },
  {
   "cell_type": "code",
   "outputs": [
    {
     "data": {
      "text/plain": "Year\n1880     201484\n1881     192699\n1882     221538\n1883     216950\n1884     243467\n         ...   \n2010    3686589\n2011    3646730\n2012    3643336\n2013    3626802\n2014    3670151\nName: Count, Length: 135, dtype: int64"
     },
     "execution_count": 27,
     "metadata": {},
     "output_type": "execute_result"
    }
   ],
   "source": [
    "task_15(names)"
   ],
   "metadata": {
    "collapsed": false,
    "ExecuteTime": {
     "end_time": "2024-03-20T12:09:50.817080Z",
     "start_time": "2024-03-20T12:09:50.779075Z"
    }
   },
   "id": "4daaaa574137e310",
   "execution_count": 27
  },
  {
   "cell_type": "code",
   "outputs": [
    {
     "data": {
      "text/plain": "1957"
     },
     "execution_count": 28,
     "metadata": {},
     "output_type": "execute_result"
    }
   ],
   "source": [
    "task_16(names)"
   ],
   "metadata": {
    "collapsed": false,
    "ExecuteTime": {
     "end_time": "2024-03-20T12:09:50.853009Z",
     "start_time": "2024-03-20T12:09:50.818145Z"
    }
   },
   "id": "d8384ded24d566f1",
   "execution_count": 28
  },
  {
   "cell_type": "code",
   "outputs": [
    {
     "data": {
      "text/plain": "Gender        F        M\nYear                    \n1880      90993   110491\n1881      91954   100745\n1882     107850   113688\n1883     112321   104629\n1884     129022   114445\n...         ...      ...\n2010    1772738  1913851\n2011    1753500  1893230\n2012    1753922  1889414\n2013    1745339  1881463\n2014    1768775  1901376\n\n[135 rows x 2 columns]",
      "text/html": "<div>\n<style scoped>\n    .dataframe tbody tr th:only-of-type {\n        vertical-align: middle;\n    }\n\n    .dataframe tbody tr th {\n        vertical-align: top;\n    }\n\n    .dataframe thead th {\n        text-align: right;\n    }\n</style>\n<table border=\"1\" class=\"dataframe\">\n  <thead>\n    <tr style=\"text-align: right;\">\n      <th>Gender</th>\n      <th>F</th>\n      <th>M</th>\n    </tr>\n    <tr>\n      <th>Year</th>\n      <th></th>\n      <th></th>\n    </tr>\n  </thead>\n  <tbody>\n    <tr>\n      <th>1880</th>\n      <td>90993</td>\n      <td>110491</td>\n    </tr>\n    <tr>\n      <th>1881</th>\n      <td>91954</td>\n      <td>100745</td>\n    </tr>\n    <tr>\n      <th>1882</th>\n      <td>107850</td>\n      <td>113688</td>\n    </tr>\n    <tr>\n      <th>1883</th>\n      <td>112321</td>\n      <td>104629</td>\n    </tr>\n    <tr>\n      <th>1884</th>\n      <td>129022</td>\n      <td>114445</td>\n    </tr>\n    <tr>\n      <th>...</th>\n      <td>...</td>\n      <td>...</td>\n    </tr>\n    <tr>\n      <th>2010</th>\n      <td>1772738</td>\n      <td>1913851</td>\n    </tr>\n    <tr>\n      <th>2011</th>\n      <td>1753500</td>\n      <td>1893230</td>\n    </tr>\n    <tr>\n      <th>2012</th>\n      <td>1753922</td>\n      <td>1889414</td>\n    </tr>\n    <tr>\n      <th>2013</th>\n      <td>1745339</td>\n      <td>1881463</td>\n    </tr>\n    <tr>\n      <th>2014</th>\n      <td>1768775</td>\n      <td>1901376</td>\n    </tr>\n  </tbody>\n</table>\n<p>135 rows × 2 columns</p>\n</div>"
     },
     "execution_count": 29,
     "metadata": {},
     "output_type": "execute_result"
    }
   ],
   "source": [
    "task_17(names)"
   ],
   "metadata": {
    "collapsed": false,
    "ExecuteTime": {
     "end_time": "2024-03-20T12:09:50.989860Z",
     "start_time": "2024-03-20T12:09:50.854057Z"
    }
   },
   "id": "80be71fb437b2dbb",
   "execution_count": 29
  },
  {
   "cell_type": "code",
   "outputs": [
    {
     "data": {
      "text/plain": "54"
     },
     "execution_count": 30,
     "metadata": {},
     "output_type": "execute_result"
    }
   ],
   "source": [
    "task_18(names)"
   ],
   "metadata": {
    "collapsed": false,
    "ExecuteTime": {
     "end_time": "2024-03-20T12:09:51.118655Z",
     "start_time": "2024-03-20T12:09:50.991414Z"
    }
   },
   "id": "bdff9d4fc432a869",
   "execution_count": 30
  },
  {
   "cell_type": "code",
   "outputs": [
    {
     "data": {
      "text/plain": "10221"
     },
     "execution_count": 31,
     "metadata": {},
     "output_type": "execute_result"
    }
   ],
   "source": [
    "task_20(names)"
   ],
   "metadata": {
    "collapsed": false,
    "ExecuteTime": {
     "end_time": "2024-03-20T12:09:52.262288Z",
     "start_time": "2024-03-20T12:09:51.119758Z"
    }
   },
   "id": "18f817cf2c47a95d",
   "execution_count": 31
  },
  {
   "cell_type": "code",
   "outputs": [
    {
     "data": {
      "text/plain": "4139"
     },
     "execution_count": 32,
     "metadata": {},
     "output_type": "execute_result"
    }
   ],
   "source": [
    "task_21(names)"
   ],
   "metadata": {
    "collapsed": false,
    "ExecuteTime": {
     "end_time": "2024-03-20T12:09:52.478795Z",
     "start_time": "2024-03-20T12:09:52.264322Z"
    }
   },
   "id": "8d3d291e6cae657d",
   "execution_count": 32
  },
  {
   "cell_type": "code",
   "outputs": [
    {
     "data": {
      "text/plain": "135"
     },
     "execution_count": 33,
     "metadata": {},
     "output_type": "execute_result"
    }
   ],
   "source": [
    "task_22(names)"
   ],
   "metadata": {
    "collapsed": false,
    "ExecuteTime": {
     "end_time": "2024-03-20T12:09:52.496232Z",
     "start_time": "2024-03-20T12:09:52.480821Z"
    }
   },
   "id": "d4c8cce0d9470ce3",
   "execution_count": 33
  },
  {
   "cell_type": "code",
   "outputs": [
    {
     "data": {
      "text/plain": "0           James\n1            John\n2          Robert\n3         Michael\n4            Mary\n5         William\n6           David\n7          Joseph\n8         Richard\n9         Charles\n10         Thomas\n11    Christopher\n12         Daniel\n13      Elizabeth\n14       Patricia\nName: Name, dtype: object"
     },
     "execution_count": 34,
     "metadata": {},
     "output_type": "execute_result"
    }
   ],
   "source": [
    "task_23(names)"
   ],
   "metadata": {
    "collapsed": false,
    "ExecuteTime": {
     "end_time": "2024-03-20T12:09:53.137183Z",
     "start_time": "2024-03-20T12:09:52.497681Z"
    }
   },
   "id": "c32e2a2d4b8e439b",
   "execution_count": 34
  },
  {
   "cell_type": "code",
   "outputs": [
    {
     "data": {
      "text/plain": "Name\nDurrel    55\nName: Count, dtype: int64"
     },
     "execution_count": 35,
     "metadata": {},
     "output_type": "execute_result"
    }
   ],
   "source": [
    "task_24(names)"
   ],
   "metadata": {
    "collapsed": false,
    "ExecuteTime": {
     "end_time": "2024-03-20T12:09:53.768831Z",
     "start_time": "2024-03-20T12:09:53.138722Z"
    }
   },
   "id": "b56599e5b5c86f0b",
   "execution_count": 35
  },
  {
   "cell_type": "code",
   "outputs": [
    {
     "data": {
      "text/plain": "<Figure size 1000x600 with 1 Axes>",
      "image/png": "[encoded data removed]"
     },
     "metadata": {},
     "output_type": "display_data"
    }
   ],
   "source": [
    "task_25(names)"
   ],
   "metadata": {
    "collapsed": false,
    "ExecuteTime": {
     "end_time": "2024-03-20T12:09:54.112923Z",
     "start_time": "2024-03-20T12:09:53.770875Z"
    }
   },
   "id": "c4acc203c8e561e1",
   "execution_count": 36
  },
  {
   "cell_type": "code",
   "outputs": [
    {
     "data": {
      "text/plain": "<Figure size 1000x600 with 1 Axes>",
      "image/png": "[encoded data removed]"
     },
     "metadata": {},
     "output_type": "display_data"
    }
   ],
   "source": [
    "task_26(names)"
   ],
   "metadata": {
    "collapsed": false,
    "ExecuteTime": {
     "end_time": "2024-03-20T12:09:54.690632Z",
     "start_time": "2024-03-20T12:09:54.113941Z"
    }
   },
   "id": "3d72bb60fa29c25b",
   "execution_count": 37
  },
  {
   "cell_type": "code",
   "outputs": [
    {
     "data": {
      "text/plain": "         Year      Name\n955      1880      John\n2818     1881      John\n4735     1882      John\n6727     1883      John\n8775     1884      John\n...       ...       ...\n1521288  2010  Isabella\n1568092  2011    Sophia\n1599369  2012    Sophia\n1630271  2013    Sophia\n1643629  2014      Emma\n\n[135 rows x 2 columns]",
      "text/html": "<div>\n<style scoped>\n    .dataframe tbody tr th:only-of-type {\n        vertical-align: middle;\n    }\n\n    .dataframe tbody tr th {\n        vertical-align: top;\n    }\n\n    .dataframe thead th {\n        text-align: right;\n    }\n</style>\n<table border=\"1\" class=\"dataframe\">\n  <thead>\n    <tr style=\"text-align: right;\">\n      <th></th>\n      <th>Year</th>\n      <th>Name</th>\n    </tr>\n  </thead>\n  <tbody>\n    <tr>\n      <th>955</th>\n      <td>1880</td>\n      <td>John</td>\n    </tr>\n    <tr>\n      <th>2818</th>\n      <td>1881</td>\n      <td>John</td>\n    </tr>\n    <tr>\n      <th>4735</th>\n      <td>1882</td>\n      <td>John</td>\n    </tr>\n    <tr>\n      <th>6727</th>\n      <td>1883</td>\n      <td>John</td>\n    </tr>\n    <tr>\n      <th>8775</th>\n      <td>1884</td>\n      <td>John</td>\n    </tr>\n    <tr>\n      <th>...</th>\n      <td>...</td>\n      <td>...</td>\n    </tr>\n    <tr>\n      <th>1521288</th>\n      <td>2010</td>\n      <td>Isabella</td>\n    </tr>\n    <tr>\n      <th>1568092</th>\n      <td>2011</td>\n      <td>Sophia</td>\n    </tr>\n    <tr>\n      <th>1599369</th>\n      <td>2012</td>\n      <td>Sophia</td>\n    </tr>\n    <tr>\n      <th>1630271</th>\n      <td>2013</td>\n      <td>Sophia</td>\n    </tr>\n    <tr>\n      <th>1643629</th>\n      <td>2014</td>\n      <td>Emma</td>\n    </tr>\n  </tbody>\n</table>\n<p>135 rows × 2 columns</p>\n</div>"
     },
     "execution_count": 38,
     "metadata": {},
     "output_type": "execute_result"
    }
   ],
   "source": [
    "task_27(names)"
   ],
   "metadata": {
    "collapsed": false,
    "ExecuteTime": {
     "end_time": "2024-03-20T12:09:55.968119Z",
     "start_time": "2024-03-20T12:09:54.692765Z"
    }
   },
   "id": "813d21929c31eae1",
   "execution_count": 38
  }
 ],
 "metadata": {
  "kernelspec": {
   "display_name": "Python 3",
   "language": "python",
   "name": "python3"
  },
  "language_info": {
   "codemirror_mode": {
    "name": "ipython",
    "version": 2
   },
   "file_extension": ".py",
   "mimetype": "text/x-python",
   "name": "python",
   "nbconvert_exporter": "python",
   "pygments_lexer": "ipython2",
   "version": "2.7.6"
  }
 },
 "nbformat": 4,
 "nbformat_minor": 5
}
