{
 "cells": [
  {
   "cell_type": "code",
   "id": "initial_id",
   "metadata": {
    "collapsed": true,
    "ExecuteTime": {
     "end_time": "2024-05-03T09:33:19.223315Z",
     "start_time": "2024-05-03T09:33:18.703571Z"
    }
   },
   "source": "import pandas as pd",
   "outputs": [],
   "execution_count": 1
  },
  {
   "metadata": {
    "ExecuteTime": {
     "end_time": "2024-05-03T09:33:19.276443Z",
     "start_time": "2024-05-03T09:33:19.225283Z"
    }
   },
   "cell_type": "code",
   "source": "exam_scores = pd.read_csv('exam_scores.csv')",
   "id": "cda38913a024f83f",
   "outputs": [],
   "execution_count": 2
  },
  {
   "metadata": {
    "ExecuteTime": {
     "end_time": "2024-05-03T09:33:19.298314Z",
     "start_time": "2024-05-03T09:33:19.277477Z"
    }
   },
   "cell_type": "code",
   "source": "exam_scores.info()",
   "id": "8e1f91897ca9ecff",
   "outputs": [
    {
     "name": "stdout",
     "output_type": "stream",
     "text": [
      "<class 'pandas.core.frame.DataFrame'>\n",
      "RangeIndex: 30641 entries, 0 to 30640\n",
      "Data columns (total 15 columns):\n",
      " #   Column               Non-Null Count  Dtype  \n",
      "---  ------               --------------  -----  \n",
      " 0   Unnamed: 0           30641 non-null  int64  \n",
      " 1   Gender               30641 non-null  object \n",
      " 2   EthnicGroup          28801 non-null  object \n",
      " 3   ParentEduc           28796 non-null  object \n",
      " 4   LunchType            30641 non-null  object \n",
      " 5   TestPrep             28811 non-null  object \n",
      " 6   ParentMaritalStatus  29451 non-null  object \n",
      " 7   PracticeSport        30010 non-null  object \n",
      " 8   IsFirstChild         29737 non-null  object \n",
      " 9   NrSiblings           29069 non-null  float64\n",
      " 10  TransportMeans       27507 non-null  object \n",
      " 11  WklyStudyHours       29686 non-null  object \n",
      " 12  MathScore            30641 non-null  int64  \n",
      " 13  ReadingScore         30641 non-null  int64  \n",
      " 14  WritingScore         30641 non-null  int64  \n",
      "dtypes: float64(1), int64(4), object(10)\n",
      "memory usage: 3.5+ MB\n"
     ]
    }
   ],
   "execution_count": 3
  },
  {
   "metadata": {},
   "cell_type": "markdown",
   "source": "## Part 1",
   "id": "affa96453574b047"
  },
  {
   "metadata": {},
   "cell_type": "markdown",
   "source": "#### 1",
   "id": "c7026e95cf8ce338"
  },
  {
   "metadata": {
    "ExecuteTime": {
     "end_time": "2024-05-03T09:33:19.310484Z",
     "start_time": "2024-05-03T09:33:19.300341Z"
    }
   },
   "cell_type": "code",
   "source": "exam_scores[\"Gender\"].value_counts()",
   "id": "a623b7ddcd727a5c",
   "outputs": [
    {
     "data": {
      "text/plain": [
       "Gender\n",
       "female    15424\n",
       "male      15217\n",
       "Name: count, dtype: int64"
      ]
     },
     "execution_count": 4,
     "metadata": {},
     "output_type": "execute_result"
    }
   ],
   "execution_count": 4
  },
  {
   "metadata": {},
   "cell_type": "markdown",
   "source": "#### 2",
   "id": "aea20ac50c92f6a5"
  },
  {
   "metadata": {
    "ExecuteTime": {
     "end_time": "2024-05-03T09:33:19.325558Z",
     "start_time": "2024-05-03T09:33:19.312507Z"
    }
   },
   "cell_type": "code",
   "source": "exam_scores[exam_scores[\"Gender\"] == \"male\"][\"Gender\"].count() / exam_scores[\"Gender\"].count()",
   "id": "fa955840c270b849",
   "outputs": [
    {
     "data": {
      "text/plain": [
       "0.496622172905584"
      ]
     },
     "execution_count": 5,
     "metadata": {},
     "output_type": "execute_result"
    }
   ],
   "execution_count": 5
  },
  {
   "metadata": {},
   "cell_type": "markdown",
   "source": "#### 3",
   "id": "26cf283abe5134d3"
  },
  {
   "metadata": {
    "ExecuteTime": {
     "end_time": "2024-05-03T09:33:19.339172Z",
     "start_time": "2024-05-03T09:33:19.326576Z"
    }
   },
   "cell_type": "code",
   "source": "exam_scores[exam_scores[\"Gender\"] == \"female\"][\"Gender\"].count() / exam_scores[\"Gender\"].count()",
   "id": "1f1d24c5aa6a44a9",
   "outputs": [
    {
     "data": {
      "text/plain": [
       "0.503377827094416"
      ]
     },
     "execution_count": 6,
     "metadata": {},
     "output_type": "execute_result"
    }
   ],
   "execution_count": 6
  },
  {
   "metadata": {},
   "cell_type": "markdown",
   "source": "#### 4, 5, 6",
   "id": "32b267a5bc4b2298"
  },
  {
   "metadata": {
    "ExecuteTime": {
     "end_time": "2024-05-03T09:33:19.349260Z",
     "start_time": "2024-05-03T09:33:19.340189Z"
    }
   },
   "cell_type": "code",
   "source": "exam_scores[\"EthnicGroup\"].value_counts()",
   "id": "8b5b97ad35694cbc",
   "outputs": [
    {
     "data": {
      "text/plain": [
       "EthnicGroup\n",
       "group C    9212\n",
       "group D    7503\n",
       "group B    5826\n",
       "group E    4041\n",
       "group A    2219\n",
       "Name: count, dtype: int64"
      ]
     },
     "execution_count": 7,
     "metadata": {},
     "output_type": "execute_result"
    }
   ],
   "execution_count": 7
  },
  {
   "metadata": {
    "ExecuteTime": {
     "end_time": "2024-05-03T09:33:19.367031Z",
     "start_time": "2024-05-03T09:33:19.350275Z"
    }
   },
   "cell_type": "code",
   "source": [
    "group_c_math_score = exam_scores[exam_scores[\"EthnicGroup\"] == \"group C\"][\"MathScore\"].mean()\n",
    "group_c_reading_score = exam_scores[exam_scores[\"EthnicGroup\"] == \"group C\"][\"ReadingScore\"].mean()\n",
    "group_c_writing_score = exam_scores[exam_scores[\"EthnicGroup\"] == \"group C\"][\"WritingScore\"].mean()\n",
    "\n",
    "print(f\"Group C math score: {group_c_math_score}\")\n",
    "print(f\"Group C reading score: {group_c_reading_score}\")\n",
    "print(f\"Group C writing score: {group_c_writing_score}\")"
   ],
   "id": "7253a46afa9f0d49",
   "outputs": [
    {
     "name": "stdout",
     "output_type": "stream",
     "text": [
      "Group C math score: 64.69572297003909\n",
      "Group C reading score: 68.43823273990448\n",
      "Group C writing score: 66.99924012158054\n"
     ]
    }
   ],
   "execution_count": 8
  },
  {
   "metadata": {
    "ExecuteTime": {
     "end_time": "2024-05-03T09:33:19.386011Z",
     "start_time": "2024-05-03T09:33:19.368045Z"
    }
   },
   "cell_type": "code",
   "source": [
    "group_d_math_score = exam_scores[exam_scores[\"EthnicGroup\"] == \"group D\"][\"MathScore\"].mean()\n",
    "group_d_reading_score = exam_scores[exam_scores[\"EthnicGroup\"] == \"group D\"][\"ReadingScore\"].mean()\n",
    "group_d_writing_score = exam_scores[exam_scores[\"EthnicGroup\"] == \"group D\"][\"WritingScore\"].mean()\n",
    "\n",
    "print(f\"Group D math score: {group_d_math_score}\")\n",
    "print(f\"Group D reading score: {group_d_reading_score}\")\n",
    "print(f\"Group D writing score: {group_d_writing_score}\")"
   ],
   "id": "6e3477f70ebca0a1",
   "outputs": [
    {
     "name": "stdout",
     "output_type": "stream",
     "text": [
      "Group D math score: 67.66640010662401\n",
      "Group D reading score: 70.38224710115954\n",
      "Group D writing score: 70.89084366253499\n"
     ]
    }
   ],
   "execution_count": 9
  },
  {
   "metadata": {
    "ExecuteTime": {
     "end_time": "2024-05-03T09:33:19.408526Z",
     "start_time": "2024-05-03T09:33:19.388862Z"
    }
   },
   "cell_type": "code",
   "source": [
    "group_b_math_score = exam_scores[exam_scores[\"EthnicGroup\"] == \"group B\"][\"MathScore\"].mean()\n",
    "group_b_reading_score = exam_scores[exam_scores[\"EthnicGroup\"] == \"group B\"][\"ReadingScore\"].mean()\n",
    "group_b_writing_score = exam_scores[exam_scores[\"EthnicGroup\"] == \"group B\"][\"WritingScore\"].mean()\n",
    "\n",
    "print(f\"Group B math score: {group_b_math_score}\")\n",
    "print(f\"Group B reading score: {group_b_reading_score}\")\n",
    "print(f\"Group B writing score: {group_b_writing_score}\")"
   ],
   "id": "78436de013ccebda",
   "outputs": [
    {
     "name": "stdout",
     "output_type": "stream",
     "text": [
      "Group B math score: 63.490216271884655\n",
      "Group B reading score: 67.32046000686577\n",
      "Group B writing score: 65.89512530037761\n"
     ]
    }
   ],
   "execution_count": 10
  },
  {
   "metadata": {
    "ExecuteTime": {
     "end_time": "2024-05-03T09:33:19.427910Z",
     "start_time": "2024-05-03T09:33:19.410701Z"
    }
   },
   "cell_type": "code",
   "source": [
    "group_e_math_score = exam_scores[exam_scores[\"EthnicGroup\"] == \"group E\"][\"MathScore\"].mean()\n",
    "group_e_reading_score = exam_scores[exam_scores[\"EthnicGroup\"] == \"group E\"][\"ReadingScore\"].mean()\n",
    "group_e_writing_score = exam_scores[exam_scores[\"EthnicGroup\"] == \"group E\"][\"WritingScore\"].mean()\n",
    "\n",
    "print(f\"Group E math score: {group_e_math_score}\")\n",
    "print(f\"Group E reading score: {group_e_reading_score}\")\n",
    "print(f\"Group E writing score: {group_e_writing_score}\")"
   ],
   "id": "fa902b3c76bb0a29",
   "outputs": [
    {
     "name": "stdout",
     "output_type": "stream",
     "text": [
      "Group E math score: 75.29893590695373\n",
      "Group E reading score: 74.25142291512002\n",
      "Group E writing score: 72.67706013363029\n"
     ]
    }
   ],
   "execution_count": 11
  },
  {
   "metadata": {
    "ExecuteTime": {
     "end_time": "2024-05-03T09:33:19.447362Z",
     "start_time": "2024-05-03T09:33:19.428950Z"
    }
   },
   "cell_type": "code",
   "source": [
    "group_a_math_score = exam_scores[exam_scores[\"EthnicGroup\"] == \"group A\"][\"MathScore\"].mean()\n",
    "group_a_reading_score = exam_scores[exam_scores[\"EthnicGroup\"] == \"group A\"][\"ReadingScore\"].mean()\n",
    "group_a_writing_score = exam_scores[exam_scores[\"EthnicGroup\"] == \"group A\"][\"WritingScore\"].mean()\n",
    "\n",
    "print(f\"Group A math score: {group_a_math_score}\")\n",
    "print(f\"Group A reading score: {group_a_reading_score}\")\n",
    "print(f\"Group A writing score: {group_a_writing_score}\")"
   ],
   "id": "6680bb309c177f99",
   "outputs": [
    {
     "name": "stdout",
     "output_type": "stream",
     "text": [
      "Group A math score: 62.99188823794502\n",
      "Group A reading score: 66.78774222622803\n",
      "Group A writing score: 65.25191527715187\n"
     ]
    }
   ],
   "execution_count": 12
  },
  {
   "metadata": {},
   "cell_type": "markdown",
   "source": "#### 7, 8, 9",
   "id": "e61e7cff987b1e85"
  },
  {
   "metadata": {
    "ExecuteTime": {
     "end_time": "2024-05-03T09:33:19.457424Z",
     "start_time": "2024-05-03T09:33:19.448384Z"
    }
   },
   "cell_type": "code",
   "source": "exam_scores[\"TestPrep\"].value_counts()",
   "id": "9eb27b2a7f9700b8",
   "outputs": [
    {
     "data": {
      "text/plain": [
       "TestPrep\n",
       "none         18856\n",
       "completed     9955\n",
       "Name: count, dtype: int64"
      ]
     },
     "execution_count": 13,
     "metadata": {},
     "output_type": "execute_result"
    }
   ],
   "execution_count": 13
  },
  {
   "metadata": {
    "ExecuteTime": {
     "end_time": "2024-05-03T09:33:19.469336Z",
     "start_time": "2024-05-03T09:33:19.458436Z"
    }
   },
   "cell_type": "code",
   "source": "exam_scores[exam_scores[\"TestPrep\"] == \"completed\"][\"MathScore\"].mean()",
   "id": "5144f35e95a3565f",
   "outputs": [
    {
     "data": {
      "text/plain": [
       "69.5466599698644"
      ]
     },
     "execution_count": 14,
     "metadata": {},
     "output_type": "execute_result"
    }
   ],
   "execution_count": 14
  },
  {
   "metadata": {
    "ExecuteTime": {
     "end_time": "2024-05-03T09:33:19.481919Z",
     "start_time": "2024-05-03T09:33:19.470348Z"
    }
   },
   "cell_type": "code",
   "source": "exam_scores[exam_scores[\"TestPrep\"] == \"completed\"][\"ReadingScore\"].mean()",
   "id": "9f564e304e03d2fb",
   "outputs": [
    {
     "data": {
      "text/plain": [
       "73.73299849321948"
      ]
     },
     "execution_count": 15,
     "metadata": {},
     "output_type": "execute_result"
    }
   ],
   "execution_count": 15
  },
  {
   "metadata": {
    "ExecuteTime": {
     "end_time": "2024-05-03T09:33:19.494152Z",
     "start_time": "2024-05-03T09:33:19.482948Z"
    }
   },
   "cell_type": "code",
   "source": "exam_scores[exam_scores[\"TestPrep\"] == \"completed\"][\"WritingScore\"].mean()",
   "id": "b9965c44b62698fe",
   "outputs": [
    {
     "data": {
      "text/plain": [
       "74.70326469111"
      ]
     },
     "execution_count": 16,
     "metadata": {},
     "output_type": "execute_result"
    }
   ],
   "execution_count": 16
  },
  {
   "metadata": {},
   "cell_type": "markdown",
   "source": "#### 10, 11",
   "id": "d4be3170aa3b914b"
  },
  {
   "metadata": {
    "ExecuteTime": {
     "end_time": "2024-05-03T09:33:19.504640Z",
     "start_time": "2024-05-03T09:33:19.496164Z"
    }
   },
   "cell_type": "code",
   "source": "exam_scores[\"ParentMaritalStatus\"].value_counts()",
   "id": "ef552cd8f62c8a4e",
   "outputs": [
    {
     "data": {
      "text/plain": [
       "ParentMaritalStatus\n",
       "married     16844\n",
       "single       7097\n",
       "divorced     4919\n",
       "widowed       591\n",
       "Name: count, dtype: int64"
      ]
     },
     "execution_count": 17,
     "metadata": {},
     "output_type": "execute_result"
    }
   ],
   "execution_count": 17
  },
  {
   "metadata": {
    "ExecuteTime": {
     "end_time": "2024-05-03T09:33:19.516841Z",
     "start_time": "2024-05-03T09:33:19.506689Z"
    }
   },
   "cell_type": "code",
   "source": "exam_scores[exam_scores[\"ParentMaritalStatus\"] == \"married\"].shape[0]",
   "id": "6eb00f6987ac5cca",
   "outputs": [
    {
     "data": {
      "text/plain": [
       "16844"
      ]
     },
     "execution_count": 18,
     "metadata": {},
     "output_type": "execute_result"
    }
   ],
   "execution_count": 18
  },
  {
   "metadata": {
    "ExecuteTime": {
     "end_time": "2024-05-03T09:33:19.528306Z",
     "start_time": "2024-05-03T09:33:19.518132Z"
    }
   },
   "cell_type": "code",
   "source": "exam_scores[exam_scores[\"ParentMaritalStatus\"] == \"single\"].shape[0]",
   "id": "44ac73cad711423f",
   "outputs": [
    {
     "data": {
      "text/plain": [
       "7097"
      ]
     },
     "execution_count": 19,
     "metadata": {},
     "output_type": "execute_result"
    }
   ],
   "execution_count": 19
  },
  {
   "metadata": {},
   "cell_type": "markdown",
   "source": "#### 12, 13",
   "id": "a10735b2a95abaf1"
  },
  {
   "metadata": {
    "ExecuteTime": {
     "end_time": "2024-05-03T09:33:19.536959Z",
     "start_time": "2024-05-03T09:33:19.529338Z"
    }
   },
   "cell_type": "code",
   "source": "exam_scores[\"PracticeSport\"].value_counts()",
   "id": "a59333483d80e207",
   "outputs": [
    {
     "data": {
      "text/plain": [
       "PracticeSport\n",
       "sometimes    15213\n",
       "regularly    10793\n",
       "never         4004\n",
       "Name: count, dtype: int64"
      ]
     },
     "execution_count": 20,
     "metadata": {},
     "output_type": "execute_result"
    }
   ],
   "execution_count": 20
  },
  {
   "metadata": {
    "ExecuteTime": {
     "end_time": "2024-05-03T09:33:19.550019Z",
     "start_time": "2024-05-03T09:33:19.537977Z"
    }
   },
   "cell_type": "code",
   "source": [
    "practice_sport_reg = exam_scores[exam_scores[\"PracticeSport\"] == \"regularly\"][\"MathScore\"].mean()\n",
    "practice_sport_never = exam_scores[exam_scores[\"PracticeSport\"] == \"never\"][\"MathScore\"].mean()\n",
    "\n",
    "print(f\"Math scores: practice sport regularly: {practice_sport_reg}; practice sport never: {practice_sport_never}\")"
   ],
   "id": "8b1270bc66e3bec3",
   "outputs": [
    {
     "name": "stdout",
     "output_type": "stream",
     "text": [
      "Math scores: practice sport regularly: 67.83915500787548; practice sport never: 64.17107892107892\n"
     ]
    }
   ],
   "execution_count": 21
  },
  {
   "metadata": {
    "ExecuteTime": {
     "end_time": "2024-05-03T09:33:19.562855Z",
     "start_time": "2024-05-03T09:33:19.551043Z"
    }
   },
   "cell_type": "code",
   "source": [
    "practice_sport_reg = exam_scores[exam_scores[\"PracticeSport\"] == \"regularly\"][\"ReadingScore\"].mean()\n",
    "practice_sport_never = exam_scores[exam_scores[\"PracticeSport\"] == \"never\"][\"ReadingScore\"].mean()\n",
    "\n",
    "print(f\"Reading scores: practice sport regularly: {practice_sport_reg}; practice sport never: {practice_sport_never}\")"
   ],
   "id": "a332791c2aeb5bf0",
   "outputs": [
    {
     "name": "stdout",
     "output_type": "stream",
     "text": [
      "Reading scores: practice sport regularly: 69.94301862318169; practice sport never: 68.33766233766234\n"
     ]
    }
   ],
   "execution_count": 22
  },
  {
   "metadata": {},
   "cell_type": "markdown",
   "source": "#### 14, 15",
   "id": "291bdb0db281625d"
  },
  {
   "metadata": {
    "ExecuteTime": {
     "end_time": "2024-05-03T09:33:19.571616Z",
     "start_time": "2024-05-03T09:33:19.563869Z"
    }
   },
   "cell_type": "code",
   "source": "exam_scores[\"TransportMeans\"].value_counts()",
   "id": "f89ac7ffaa50219a",
   "outputs": [
    {
     "data": {
      "text/plain": [
       "TransportMeans\n",
       "school_bus    16145\n",
       "private       11362\n",
       "Name: count, dtype: int64"
      ]
     },
     "execution_count": 23,
     "metadata": {},
     "output_type": "execute_result"
    }
   ],
   "execution_count": 23
  },
  {
   "metadata": {},
   "cell_type": "markdown",
   "source": "## Part 2",
   "id": "93fbe4940df2da82"
  },
  {
   "metadata": {
    "ExecuteTime": {
     "end_time": "2024-05-03T09:33:19.589782Z",
     "start_time": "2024-05-03T09:33:19.572639Z"
    }
   },
   "cell_type": "code",
   "source": [
    "exam_scores_prep = exam_scores.copy()\n",
    "exam_scores_prep.dropna(subset=[\"TestPrep\"], inplace=True)\n",
    "exam_scores_prep.drop(exam_scores_prep.columns[0], axis=1, inplace=True)\n",
    "exam_scores_prep.reset_index(drop=True, inplace=True)"
   ],
   "id": "bf28b8f10c4ff869",
   "outputs": [],
   "execution_count": 24
  },
  {
   "metadata": {
    "ExecuteTime": {
     "end_time": "2024-05-03T09:33:19.608266Z",
     "start_time": "2024-05-03T09:33:19.590791Z"
    }
   },
   "cell_type": "code",
   "source": "exam_scores_prep.info()",
   "id": "ccbb8f3813a81d06",
   "outputs": [
    {
     "name": "stdout",
     "output_type": "stream",
     "text": [
      "<class 'pandas.core.frame.DataFrame'>\n",
      "RangeIndex: 28811 entries, 0 to 28810\n",
      "Data columns (total 14 columns):\n",
      " #   Column               Non-Null Count  Dtype  \n",
      "---  ------               --------------  -----  \n",
      " 0   Gender               28811 non-null  object \n",
      " 1   EthnicGroup          27095 non-null  object \n",
      " 2   ParentEduc           27074 non-null  object \n",
      " 3   LunchType            28811 non-null  object \n",
      " 4   TestPrep             28811 non-null  object \n",
      " 5   ParentMaritalStatus  27684 non-null  object \n",
      " 6   PracticeSport        28213 non-null  object \n",
      " 7   IsFirstChild         27978 non-null  object \n",
      " 8   NrSiblings           27337 non-null  float64\n",
      " 9   TransportMeans       25884 non-null  object \n",
      " 10  WklyStudyHours       27907 non-null  object \n",
      " 11  MathScore            28811 non-null  int64  \n",
      " 12  ReadingScore         28811 non-null  int64  \n",
      " 13  WritingScore         28811 non-null  int64  \n",
      "dtypes: float64(1), int64(3), object(10)\n",
      "memory usage: 3.1+ MB\n"
     ]
    }
   ],
   "execution_count": 25
  },
  {
   "metadata": {
    "ExecuteTime": {
     "end_time": "2024-05-03T09:33:19.617809Z",
     "start_time": "2024-05-03T09:33:19.610279Z"
    }
   },
   "cell_type": "code",
   "source": [
    "exam_scores_labels = exam_scores_prep[\"TestPrep\"].copy()\n",
    "exam_scores_prep.drop(\"TestPrep\", axis=1, inplace=True)"
   ],
   "id": "4b5e278f28780890",
   "outputs": [],
   "execution_count": 26
  },
  {
   "metadata": {
    "ExecuteTime": {
     "end_time": "2024-05-03T09:33:20.402779Z",
     "start_time": "2024-05-03T09:33:19.618823Z"
    }
   },
   "cell_type": "code",
   "source": [
    "from sklearn.pipeline import Pipeline\n",
    "from sklearn.impute import SimpleImputer\n",
    "\n",
    "num_pipeline = Pipeline([\n",
    "        ('imputer', SimpleImputer(strategy=\"median\")),\n",
    "    ])"
   ],
   "id": "691d834ccf89ea43",
   "outputs": [],
   "execution_count": 27
  },
  {
   "metadata": {
    "ExecuteTime": {
     "end_time": "2024-05-03T09:33:20.411844Z",
     "start_time": "2024-05-03T09:33:20.407644Z"
    }
   },
   "cell_type": "code",
   "source": [
    "from sklearn.preprocessing import OneHotEncoder\n",
    "\n",
    "cat_pipeline = Pipeline([\n",
    "        ('imputer', SimpleImputer(strategy=\"most_frequent\")),\n",
    "        (\"ohe\", OneHotEncoder()),\n",
    "])"
   ],
   "id": "f61498a75a0cae19",
   "outputs": [],
   "execution_count": 28
  },
  {
   "metadata": {
    "ExecuteTime": {
     "end_time": "2024-05-03T09:33:20.506110Z",
     "start_time": "2024-05-03T09:33:20.413963Z"
    }
   },
   "cell_type": "code",
   "source": [
    "from sklearn.compose import ColumnTransformer\n",
    "\n",
    "\n",
    "num_attribs = [\"NrSiblings\", \"MathScore\", \"ReadingScore\", \"WritingScore\"]\n",
    "cat_attribs = [\"Gender\" ,\"EthnicGroup\", \"ParentEduc\", \"LunchType\", \"ParentMaritalStatus\", \"PracticeSport\", \"IsFirstChild\", \"TransportMeans\", \"WklyStudyHours\"]\n",
    "\n",
    "full_pipeline = ColumnTransformer([\n",
    "        (\"num\", num_pipeline, num_attribs),\n",
    "        (\"cat\", cat_pipeline, cat_attribs),\n",
    "    ])\n",
    "\n",
    "exam_scores_prepared = full_pipeline.fit_transform(exam_scores_prep)"
   ],
   "id": "d44ab86befd4564f",
   "outputs": [],
   "execution_count": 29
  },
  {
   "metadata": {
    "ExecuteTime": {
     "end_time": "2024-05-03T09:33:22.230678Z",
     "start_time": "2024-05-03T09:33:20.507678Z"
    }
   },
   "cell_type": "code",
   "source": [
    "from sklearn.tree import DecisionTreeClassifier\n",
    "from sklearn.model_selection import cross_val_score\n",
    "\n",
    "tree_clf = DecisionTreeClassifier(max_depth=8, random_state=48)\n",
    "\n",
    "scores = cross_val_score(tree_clf, exam_scores_prepared, exam_scores_labels, cv=16)\n",
    "scores"
   ],
   "id": "c1bed06d9acbd55",
   "outputs": [
    {
     "data": {
      "text/plain": [
       "array([0.70682954, 0.73459189, 0.71515825, 0.72237646, 0.71182676,\n",
       "       0.71016102, 0.72737368, 0.73237091, 0.71515825, 0.71515825,\n",
       "       0.71682399, 0.69611111, 0.71277778, 0.72611111, 0.71      ,\n",
       "       0.70111111])"
      ]
     },
     "execution_count": 30,
     "metadata": {},
     "output_type": "execute_result"
    }
   ],
   "execution_count": 30
  }
 ],
 "metadata": {
  "kernelspec": {
   "display_name": "Python 3",
   "language": "python",
   "name": "python3"
  },
  "language_info": {
   "codemirror_mode": {
    "name": "ipython",
    "version": 2
   },
   "file_extension": ".py",
   "mimetype": "text/x-python",
   "name": "python",
   "nbconvert_exporter": "python",
   "pygments_lexer": "ipython2",
   "version": "2.7.6"
  }
 },
 "nbformat": 4,
 "nbformat_minor": 5
}
