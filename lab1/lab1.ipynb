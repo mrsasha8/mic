{
 "cells": [
  {
   "cell_type": "markdown",
   "id": "fe31bd72-2237-49a3-a5ef-1b99251605d9",
   "metadata": {},
   "source": [
    "# Гана\n",
    "\n",
    "## Розмір та населення\n",
    "Гана розташована в Західній Африці та має площу приблизно 238,535 км². Населення Гани становить близько 34 мільйонів осіб.\n",
    "\n",
    "## Уряд\n",
    "Уряд Гани має форму президентської республіки. Президент є головнокомандувачем Збройних сил та обирається народом на п'ятирічний термін.\n",
    "\n",
    "## Культура\n",
    "Гана славиться своєю різноманітною культурою, яка включає традиційне мистецтво, музику та танці. У країні широко вживається традиційне рукоділля, таке як вишивка Кенте та виробництво барабанів.\n",
    "\n",
    "## Відомі особи\n",
    "Гана породила численних видатних особистостей. Однією з найвідоміших є Кваме Нкрума, перший президент незалежної Гани. Інші відомі особи включають в себе:\n",
    "- Письменника Чінуа Ачебе\n",
    "- Футбольного гравця Асамоа Джана\n",
    "\n",
    "## Статистика\n",
    "\n",
    "| Показник               | Значення                   |\n",
    "|------------------------|----------------------------|\n",
    "| Площа                  | 238,535 км²                |\n",
    "| Населення              | 34 мільйон осіб            |\n",
    "| Форма уряду            | Президентська республіка   |\n",
    "| Голова держави         | Президент                  |\n",
    "\n",
    "## Прапор"
   ]
  },
  {
   "cell_type": "code",
   "execution_count": 1,
   "id": "665fba2b-9220-4745-ab8c-d8c373c4cfd2",
   "metadata": {
    "ExecuteTime": {
     "end_time": "2024-03-20T11:16:51.043105Z",
     "start_time": "2024-03-20T11:16:51.028210Z"
    }
   },
   "outputs": [
    {
     "data": {
      "text/plain": "<IPython.core.display.HTML object>",
      "text/html": "<svg xmlns=\"http://www.w3.org/2000/svg\" width=\"900\" height=\"600\">\n  <path fill=\"#006b3f\" d=\"m0 0h900v600H0z\"/><path fill=\"#fcd116\" d=\"m0 0h900v400H00z\"/>\n  <path fill=\"#ce1126\" d=\"m0 0h900v200H0z\"/>\n  <path d=\"m450 200 64.98 200-170.13-123.61h210.3L385.02 400z\"/>\n</svg>\n"
     },
     "metadata": {},
     "output_type": "display_data"
    }
   ],
   "source": [
    "%%HTML\n",
    "<svg xmlns=\"http://www.w3.org/2000/svg\" width=\"900\" height=\"600\">\n",
    "  <path fill=\"#006b3f\" d=\"m0 0h900v600H0z\"/>\n",
    "  <path fill=\"#fcd116\" d=\"m0 0h900v400H00z\"/>\n",
    "  <path fill=\"#ce1126\" d=\"m0 0h900v200H0z\"/>\n",
    "  <path d=\"m450 200 64.98 200-170.13-123.61h210.3L385.02 400z\"/>\n",
    "</svg>"
   ]
  },
  {
   "cell_type": "code",
   "execution_count": 2,
   "id": "b235dbb0-3eb0-4d7e-a420-3f2c7ede575c",
   "metadata": {
    "ExecuteTime": {
     "end_time": "2024-03-20T11:16:51.056945Z",
     "start_time": "2024-03-20T11:16:51.046282Z"
    }
   },
   "outputs": [],
   "source": [
    "def is_prime(n):\n",
    "    for i in range(2, int(n**0.5) + 1):\n",
    "        if n % i == 0:\n",
    "            return False\n",
    "    return True\n",
    "\n",
    "def kth_prime(k):\n",
    "    if k == 1:\n",
    "        return 2\n",
    "    \n",
    "    i = 1\n",
    "    result = 2\n",
    "    while True:\n",
    "        result += 1\n",
    "        if is_prime(result):\n",
    "            i += 1\n",
    "            if i == k:\n",
    "                break\n",
    "\n",
    "    return result\n",
    "\n",
    "def task_5():\n",
    "    k = input()\n",
    "\n",
    "    if not (k.isdigit()):\n",
    "        print(\"Input should be unsigned integer!\")\n",
    "        return False\n",
    "    elif int(k) < 1:\n",
    "        print(\"Input should be greater than 1!\")\n",
    "        return False\n",
    "    else:\n",
    "        return kth_prime(int(k))\n",
    "\n"
   ]
  },
  {
   "cell_type": "code",
   "execution_count": 3,
   "id": "8ad8d482-ab7b-4d41-8b26-0e7fc317f844",
   "metadata": {
    "ExecuteTime": {
     "end_time": "2024-03-20T11:16:55.097502Z",
     "start_time": "2024-03-20T11:16:51.059314Z"
    }
   },
   "outputs": [
    {
     "data": {
      "text/plain": "11"
     },
     "execution_count": 3,
     "metadata": {},
     "output_type": "execute_result"
    }
   ],
   "source": [
    "task_5()"
   ]
  },
  {
   "cell_type": "code",
   "outputs": [
    {
     "data": {
      "text/plain": "139"
     },
     "execution_count": 4,
     "metadata": {},
     "output_type": "execute_result"
    }
   ],
   "source": [
    "task_5()"
   ],
   "metadata": {
    "collapsed": false,
    "ExecuteTime": {
     "end_time": "2024-03-20T11:16:56.639011Z",
     "start_time": "2024-03-20T11:16:55.099586Z"
    }
   },
   "id": "d28423ce0d0a0693",
   "execution_count": 4
  }
 ],
 "metadata": {
  "kernelspec": {
   "display_name": "Python 3 (ipykernel)",
   "language": "python",
   "name": "python3"
  },
  "language_info": {
   "codemirror_mode": {
    "name": "ipython",
    "version": 3
   },
   "file_extension": ".py",
   "mimetype": "text/x-python",
   "name": "python",
   "nbconvert_exporter": "python",
   "pygments_lexer": "ipython3",
   "version": "3.12.2"
  }
 },
 "nbformat": 4,
 "nbformat_minor": 5
}
